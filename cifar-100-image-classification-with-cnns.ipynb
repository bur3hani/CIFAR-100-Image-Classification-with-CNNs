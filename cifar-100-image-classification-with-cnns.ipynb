{
 "cells": [
  {
   "cell_type": "markdown",
   "id": "bed72863",
   "metadata": {
    "papermill": {
     "duration": 0.005476,
     "end_time": "2025-03-03T22:39:16.588047",
     "exception": false,
     "start_time": "2025-03-03T22:39:16.582571",
     "status": "completed"
    },
    "tags": []
   },
   "source": [
    "# CIFAR-100 Image Classification with Convolutional Neural Networks\n",
    "- This project demonstrates a professional end-to-end workflow for classifying images in the CIFAR-100 dataset using a Convolutional Neural Network (CNN). The audience is anyone assessing a deep learning project, such as senior data scientists, instructors, or stakeholders. The content is designed to highlight clarity, best practices, and analytical rigor.\n",
    "## 1. Project Overview\n",
    "- Objective:\n",
    "Classify images in the CIFAR-100 dataset into one of 100 categories using a CNN. This project showcases the process of:\n",
    "\n",
    "- 1. Loading and understanding the dataset.\n",
    "- 2. Preprocessing images.\n",
    "- 3. Building a CNN architecture.\n",
    "- 4. Training and evaluating the model.\n",
    "- 5. Suggesting improvements and next steps.\n",
    "\n",
    "## Dataset: CIFAR-100\n",
    "- *Source:* Built-in TensorFlow/Keras dataset.\n",
    "- *Description:* 60,000 color images (32×32), split into 50,000 training images and 10,000 test images.\n",
    "- *Classes:* 100 categories (fine-grained labels).\n",
    "\n"
   ]
  },
  {
   "cell_type": "markdown",
   "id": "b2258c62",
   "metadata": {
    "papermill": {
     "duration": 0.004784,
     "end_time": "2025-03-03T22:39:16.598142",
     "exception": false,
     "start_time": "2025-03-03T22:39:16.593358",
     "status": "completed"
    },
    "tags": []
   },
   "source": [
    "## 2. Environment Setup\n",
    "Below is a sample command to ensure the necessary libraries are available in your environment:"
   ]
  },
  {
   "cell_type": "code",
   "execution_count": 1,
   "id": "8f2f3735",
   "metadata": {
    "execution": {
     "iopub.execute_input": "2025-03-03T22:39:16.609822Z",
     "iopub.status.busy": "2025-03-03T22:39:16.609410Z",
     "iopub.status.idle": "2025-03-03T22:39:22.921679Z",
     "shell.execute_reply": "2025-03-03T22:39:22.919835Z"
    },
    "papermill": {
     "duration": 6.320861,
     "end_time": "2025-03-03T22:39:22.924083",
     "exception": false,
     "start_time": "2025-03-03T22:39:16.603222",
     "status": "completed"
    },
    "tags": []
   },
   "outputs": [
    {
     "name": "stdout",
     "output_type": "stream",
     "text": [
      "Requirement already satisfied: tensorflow in /usr/local/lib/python3.10/dist-packages (2.17.1)\r\n",
      "Requirement already satisfied: matplotlib in /usr/local/lib/python3.10/dist-packages (3.7.5)\r\n",
      "Requirement already satisfied: numpy in /usr/local/lib/python3.10/dist-packages (1.26.4)\r\n",
      "Requirement already satisfied: absl-py>=1.0.0 in /usr/local/lib/python3.10/dist-packages (from tensorflow) (1.4.0)\r\n",
      "Requirement already satisfied: astunparse>=1.6.0 in /usr/local/lib/python3.10/dist-packages (from tensorflow) (1.6.3)\r\n",
      "Requirement already satisfied: flatbuffers>=24.3.25 in /usr/local/lib/python3.10/dist-packages (from tensorflow) (24.3.25)\r\n",
      "Requirement already satisfied: gast!=0.5.0,!=0.5.1,!=0.5.2,>=0.2.1 in /usr/local/lib/python3.10/dist-packages (from tensorflow) (0.6.0)\r\n",
      "Requirement already satisfied: google-pasta>=0.1.1 in /usr/local/lib/python3.10/dist-packages (from tensorflow) (0.2.0)\r\n",
      "Requirement already satisfied: h5py>=3.10.0 in /usr/local/lib/python3.10/dist-packages (from tensorflow) (3.12.1)\r\n",
      "Requirement already satisfied: libclang>=13.0.0 in /usr/local/lib/python3.10/dist-packages (from tensorflow) (18.1.1)\r\n",
      "Requirement already satisfied: ml-dtypes<0.5.0,>=0.3.1 in /usr/local/lib/python3.10/dist-packages (from tensorflow) (0.4.1)\r\n",
      "Requirement already satisfied: opt-einsum>=2.3.2 in /usr/local/lib/python3.10/dist-packages (from tensorflow) (3.4.0)\r\n",
      "Requirement already satisfied: packaging in /usr/local/lib/python3.10/dist-packages (from tensorflow) (24.2)\r\n",
      "Requirement already satisfied: protobuf!=4.21.0,!=4.21.1,!=4.21.2,!=4.21.3,!=4.21.4,!=4.21.5,<5.0.0dev,>=3.20.3 in /usr/local/lib/python3.10/dist-packages (from tensorflow) (3.20.3)\r\n",
      "Requirement already satisfied: requests<3,>=2.21.0 in /usr/local/lib/python3.10/dist-packages (from tensorflow) (2.32.3)\r\n",
      "Requirement already satisfied: setuptools in /usr/local/lib/python3.10/dist-packages (from tensorflow) (75.1.0)\r\n",
      "Requirement already satisfied: six>=1.12.0 in /usr/local/lib/python3.10/dist-packages (from tensorflow) (1.17.0)\r\n",
      "Requirement already satisfied: termcolor>=1.1.0 in /usr/local/lib/python3.10/dist-packages (from tensorflow) (2.5.0)\r\n",
      "Requirement already satisfied: typing-extensions>=3.6.6 in /usr/local/lib/python3.10/dist-packages (from tensorflow) (4.12.2)\r\n",
      "Requirement already satisfied: wrapt>=1.11.0 in /usr/local/lib/python3.10/dist-packages (from tensorflow) (1.17.0)\r\n",
      "Requirement already satisfied: grpcio<2.0,>=1.24.3 in /usr/local/lib/python3.10/dist-packages (from tensorflow) (1.68.1)\r\n",
      "Requirement already satisfied: tensorboard<2.18,>=2.17 in /usr/local/lib/python3.10/dist-packages (from tensorflow) (2.17.1)\r\n",
      "Requirement already satisfied: keras>=3.2.0 in /usr/local/lib/python3.10/dist-packages (from tensorflow) (3.5.0)\r\n",
      "Requirement already satisfied: tensorflow-io-gcs-filesystem>=0.23.1 in /usr/local/lib/python3.10/dist-packages (from tensorflow) (0.37.1)\r\n",
      "Requirement already satisfied: contourpy>=1.0.1 in /usr/local/lib/python3.10/dist-packages (from matplotlib) (1.3.1)\r\n",
      "Requirement already satisfied: cycler>=0.10 in /usr/local/lib/python3.10/dist-packages (from matplotlib) (0.12.1)\r\n",
      "Requirement already satisfied: fonttools>=4.22.0 in /usr/local/lib/python3.10/dist-packages (from matplotlib) (4.55.3)\r\n",
      "Requirement already satisfied: kiwisolver>=1.0.1 in /usr/local/lib/python3.10/dist-packages (from matplotlib) (1.4.7)\r\n",
      "Requirement already satisfied: pillow>=6.2.0 in /usr/local/lib/python3.10/dist-packages (from matplotlib) (11.0.0)\r\n",
      "Requirement already satisfied: pyparsing>=2.3.1 in /usr/local/lib/python3.10/dist-packages (from matplotlib) (3.2.0)\r\n",
      "Requirement already satisfied: python-dateutil>=2.7 in /usr/local/lib/python3.10/dist-packages (from matplotlib) (2.9.0.post0)\r\n",
      "Requirement already satisfied: mkl_fft in /usr/local/lib/python3.10/dist-packages (from numpy) (1.3.8)\r\n",
      "Requirement already satisfied: mkl_random in /usr/local/lib/python3.10/dist-packages (from numpy) (1.2.4)\r\n",
      "Requirement already satisfied: mkl_umath in /usr/local/lib/python3.10/dist-packages (from numpy) (0.1.1)\r\n",
      "Requirement already satisfied: mkl in /usr/local/lib/python3.10/dist-packages (from numpy) (2025.0.1)\r\n",
      "Requirement already satisfied: tbb4py in /usr/local/lib/python3.10/dist-packages (from numpy) (2022.0.0)\r\n",
      "Requirement already satisfied: mkl-service in /usr/local/lib/python3.10/dist-packages (from numpy) (2.4.1)\r\n",
      "Requirement already satisfied: wheel<1.0,>=0.23.0 in /usr/local/lib/python3.10/dist-packages (from astunparse>=1.6.0->tensorflow) (0.45.1)\r\n",
      "Requirement already satisfied: rich in /usr/local/lib/python3.10/dist-packages (from keras>=3.2.0->tensorflow) (13.9.4)\r\n",
      "Requirement already satisfied: namex in /usr/local/lib/python3.10/dist-packages (from keras>=3.2.0->tensorflow) (0.0.8)\r\n",
      "Requirement already satisfied: optree in /usr/local/lib/python3.10/dist-packages (from keras>=3.2.0->tensorflow) (0.13.1)\r\n",
      "Requirement already satisfied: charset-normalizer<4,>=2 in /usr/local/lib/python3.10/dist-packages (from requests<3,>=2.21.0->tensorflow) (3.4.1)\r\n",
      "Requirement already satisfied: idna<4,>=2.5 in /usr/local/lib/python3.10/dist-packages (from requests<3,>=2.21.0->tensorflow) (3.10)\r\n",
      "Requirement already satisfied: urllib3<3,>=1.21.1 in /usr/local/lib/python3.10/dist-packages (from requests<3,>=2.21.0->tensorflow) (2.3.0)\r\n",
      "Requirement already satisfied: certifi>=2017.4.17 in /usr/local/lib/python3.10/dist-packages (from requests<3,>=2.21.0->tensorflow) (2025.1.31)\r\n",
      "Requirement already satisfied: markdown>=2.6.8 in /usr/local/lib/python3.10/dist-packages (from tensorboard<2.18,>=2.17->tensorflow) (3.7)\r\n",
      "Requirement already satisfied: tensorboard-data-server<0.8.0,>=0.7.0 in /usr/local/lib/python3.10/dist-packages (from tensorboard<2.18,>=2.17->tensorflow) (0.7.2)\r\n",
      "Requirement already satisfied: werkzeug>=1.0.1 in /usr/local/lib/python3.10/dist-packages (from tensorboard<2.18,>=2.17->tensorflow) (3.1.3)\r\n",
      "Requirement already satisfied: intel-openmp>=2024 in /usr/local/lib/python3.10/dist-packages (from mkl->numpy) (2024.2.0)\r\n",
      "Requirement already satisfied: tbb==2022.* in /usr/local/lib/python3.10/dist-packages (from mkl->numpy) (2022.0.0)\r\n",
      "Requirement already satisfied: tcmlib==1.* in /usr/local/lib/python3.10/dist-packages (from tbb==2022.*->mkl->numpy) (1.2.0)\r\n",
      "Requirement already satisfied: intel-cmplr-lib-rt in /usr/local/lib/python3.10/dist-packages (from mkl_umath->numpy) (2024.2.0)\r\n",
      "Requirement already satisfied: intel-cmplr-lib-ur==2024.2.0 in /usr/local/lib/python3.10/dist-packages (from intel-openmp>=2024->mkl->numpy) (2024.2.0)\r\n",
      "Requirement already satisfied: MarkupSafe>=2.1.1 in /usr/local/lib/python3.10/dist-packages (from werkzeug>=1.0.1->tensorboard<2.18,>=2.17->tensorflow) (3.0.2)\r\n",
      "Requirement already satisfied: markdown-it-py>=2.2.0 in /usr/local/lib/python3.10/dist-packages (from rich->keras>=3.2.0->tensorflow) (3.0.0)\r\n",
      "Requirement already satisfied: pygments<3.0.0,>=2.13.0 in /usr/local/lib/python3.10/dist-packages (from rich->keras>=3.2.0->tensorflow) (2.19.1)\r\n",
      "Requirement already satisfied: mdurl~=0.1 in /usr/local/lib/python3.10/dist-packages (from markdown-it-py>=2.2.0->rich->keras>=3.2.0->tensorflow) (0.1.2)\r\n",
      "Note: you may need to restart the kernel to use updated packages.\n"
     ]
    }
   ],
   "source": [
    "pip install tensorflow matplotlib numpy"
   ]
  },
  {
   "cell_type": "markdown",
   "id": "6efee78d",
   "metadata": {
    "papermill": {
     "duration": 0.005471,
     "end_time": "2025-03-03T22:39:22.936007",
     "exception": false,
     "start_time": "2025-03-03T22:39:22.930536",
     "status": "completed"
    },
    "tags": []
   },
   "source": [
    "- TensorFlow/Keras is used for building and training the CNN.\n",
    "- Matplotlib for data visualization.\n",
    "- NumPy for numerical operations."
   ]
  },
  {
   "cell_type": "markdown",
   "id": "05920a37",
   "metadata": {
    "papermill": {
     "duration": 0.005328,
     "end_time": "2025-03-03T22:39:22.947050",
     "exception": false,
     "start_time": "2025-03-03T22:39:22.941722",
     "status": "completed"
    },
    "tags": []
   },
   "source": [
    "## 3. Data Loading and Exploration\n",
    "Use the built-in TensorFlow/Keras function to load the CIFAR-100 dataset. This approach eliminates the need for a manual download."
   ]
  },
  {
   "cell_type": "code",
   "execution_count": 2,
   "id": "42e42252",
   "metadata": {
    "_cell_guid": "b1076dfc-b9ad-4769-8c92-a6c4dae69d19",
    "_uuid": "8f2839f25d086af736a60e9eeb907d3b93b6e0e5",
    "execution": {
     "iopub.execute_input": "2025-03-03T22:39:22.959848Z",
     "iopub.status.busy": "2025-03-03T22:39:22.959415Z",
     "iopub.status.idle": "2025-03-03T22:39:23.842699Z",
     "shell.execute_reply": "2025-03-03T22:39:23.841496Z"
    },
    "papermill": {
     "duration": 0.892116,
     "end_time": "2025-03-03T22:39:23.844776",
     "exception": false,
     "start_time": "2025-03-03T22:39:22.952660",
     "status": "completed"
    },
    "tags": []
   },
   "outputs": [
    {
     "name": "stdout",
     "output_type": "stream",
     "text": [
      "Path to dataset files: /kaggle/input/cifar100\n"
     ]
    }
   ],
   "source": [
    "import kagglehub\n",
    "path = kagglehub.dataset_download(\"fedesoriano/cifar100\")\n",
    "print(\"Path to dataset files:\", path)"
   ]
  },
  {
   "cell_type": "code",
   "execution_count": 3,
   "id": "b3fae616",
   "metadata": {
    "execution": {
     "iopub.execute_input": "2025-03-03T22:39:23.857298Z",
     "iopub.status.busy": "2025-03-03T22:39:23.856970Z",
     "iopub.status.idle": "2025-03-03T22:39:23.872322Z",
     "shell.execute_reply": "2025-03-03T22:39:23.871023Z"
    },
    "papermill": {
     "duration": 0.023653,
     "end_time": "2025-03-03T22:39:23.874321",
     "exception": false,
     "start_time": "2025-03-03T22:39:23.850668",
     "status": "completed"
    },
    "tags": []
   },
   "outputs": [
    {
     "name": "stdout",
     "output_type": "stream",
     "text": [
      "Available files in dataset directory: ['meta', 'file.txt', 'test', 'train']\n"
     ]
    }
   ],
   "source": [
    "import os\n",
    "\n",
    "dataset_path = \"/kaggle/input/cifar100/\"\n",
    "files = os.listdir(dataset_path)\n",
    "\n",
    "print(\"Available files in dataset directory:\", files)\n"
   ]
  },
  {
   "cell_type": "markdown",
   "id": "d86d6cac",
   "metadata": {
    "papermill": {
     "duration": 0.005633,
     "end_time": "2025-03-03T22:39:23.885814",
     "exception": false,
     "start_time": "2025-03-03T22:39:23.880181",
     "status": "completed"
    },
    "tags": []
   },
   "source": [
    "## 4. Data Loading and Exploration\n",
    "Use the built-in TensorFlow/Keras function to load the CIFAR-100 dataset. This approach eliminates the need for a manual download."
   ]
  },
  {
   "cell_type": "code",
   "execution_count": 4,
   "id": "8d04d61a",
   "metadata": {
    "execution": {
     "iopub.execute_input": "2025-03-03T22:39:23.898927Z",
     "iopub.status.busy": "2025-03-03T22:39:23.898511Z",
     "iopub.status.idle": "2025-03-03T22:39:49.805307Z",
     "shell.execute_reply": "2025-03-03T22:39:49.804022Z"
    },
    "papermill": {
     "duration": 25.915523,
     "end_time": "2025-03-03T22:39:49.807079",
     "exception": false,
     "start_time": "2025-03-03T22:39:23.891556",
     "status": "completed"
    },
    "tags": []
   },
   "outputs": [
    {
     "name": "stdout",
     "output_type": "stream",
     "text": [
      "Downloading data from https://www.cs.toronto.edu/~kriz/cifar-100-python.tar.gz\n",
      "\u001b[1m169001437/169001437\u001b[0m \u001b[32m━━━━━━━━━━━━━━━━━━━━\u001b[0m\u001b[37m\u001b[0m \u001b[1m5s\u001b[0m 0us/step\n",
      "Training Images Shape: (50000, 32, 32, 3)\n",
      "Training Labels Shape: (50000, 1)\n",
      "Test Images Shape: (10000, 32, 32, 3)\n",
      "Test Labels Shape: (10000, 1)\n"
     ]
    }
   ],
   "source": [
    "import tensorflow as tf\n",
    "import numpy as np\n",
    "import matplotlib.pyplot as plt\n",
    "\n",
    "from tensorflow.keras.datasets import cifar100\n",
    "\n",
    "# Load the CIFAR-100 dataset\n",
    "(x_train, y_train), (x_test, y_test) = cifar100.load_data(label_mode='fine')\n",
    "\n",
    "# Print dataset dimensions\n",
    "print(\"Training Images Shape:\", x_train.shape)\n",
    "print(\"Training Labels Shape:\", y_train.shape)\n",
    "print(\"Test Images Shape:\", x_test.shape)\n",
    "print(\"Test Labels Shape:\", y_test.shape)\n"
   ]
  },
  {
   "cell_type": "markdown",
   "id": "6102b6db",
   "metadata": {
    "papermill": {
     "duration": 0.010756,
     "end_time": "2025-03-03T22:39:49.829686",
     "exception": false,
     "start_time": "2025-03-03T22:39:49.818930",
     "status": "completed"
    },
    "tags": []
   },
   "source": [
    "## 4.1. Visualize Sample Images"
   ]
  },
  {
   "cell_type": "code",
   "execution_count": 5,
   "id": "715dd96e",
   "metadata": {
    "execution": {
     "iopub.execute_input": "2025-03-03T22:39:49.853008Z",
     "iopub.status.busy": "2025-03-03T22:39:49.852244Z",
     "iopub.status.idle": "2025-03-03T22:39:50.113185Z",
     "shell.execute_reply": "2025-03-03T22:39:50.111972Z"
    },
    "papermill": {
     "duration": 0.274545,
     "end_time": "2025-03-03T22:39:50.115037",
     "exception": false,
     "start_time": "2025-03-03T22:39:49.840492",
     "status": "completed"
    },
    "tags": []
   },
   "outputs": [
    {
     "data": {
      "image/png": "[encoded data removed]",
      "text/plain": [
       "<Figure size 1200x300 with 5 Axes>"
      ]
     },
     "metadata": {},
     "output_type": "display_data"
    }
   ],
   "source": [
    "# Display 5 random samples from the training set\n",
    "fig, axes = plt.subplots(1, 5, figsize=(12, 3))\n",
    "for i in range(5):\n",
    "    idx = np.random.randint(0, x_train.shape[0])\n",
    "    axes[i].imshow(x_train[idx])\n",
    "    axes[i].axis(\"off\")\n",
    "plt.tight_layout()\n",
    "plt.show()\n"
   ]
  },
  {
   "cell_type": "markdown",
   "id": "66d981d7",
   "metadata": {
    "papermill": {
     "duration": 0.011802,
     "end_time": "2025-03-03T22:39:50.138739",
     "exception": false,
     "start_time": "2025-03-03T22:39:50.126937",
     "status": "completed"
    },
    "tags": []
   },
   "source": [
    "This step confirms that the dataset is loaded correctly and images are visually in line with the expected 32×32 resolution."
   ]
  },
  {
   "cell_type": "markdown",
   "id": "e5d8c563",
   "metadata": {
    "papermill": {
     "duration": 0.01105,
     "end_time": "2025-03-03T22:39:50.162987",
     "exception": false,
     "start_time": "2025-03-03T22:39:50.151937",
     "status": "completed"
    },
    "tags": []
   },
   "source": [
    "## 5. Data Preprocessing\n",
    "### 5.1. Normalize Images\n",
    "Pixel values range from 0 to 255. Normalizing helps the model converge more smoothly."
   ]
  },
  {
   "cell_type": "code",
   "execution_count": 6,
   "id": "2ebf2234",
   "metadata": {
    "execution": {
     "iopub.execute_input": "2025-03-03T22:39:50.187483Z",
     "iopub.status.busy": "2025-03-03T22:39:50.186837Z",
     "iopub.status.idle": "2025-03-03T22:39:50.700811Z",
     "shell.execute_reply": "2025-03-03T22:39:50.699440Z"
    },
    "papermill": {
     "duration": 0.528502,
     "end_time": "2025-03-03T22:39:50.702906",
     "exception": false,
     "start_time": "2025-03-03T22:39:50.174404",
     "status": "completed"
    },
    "tags": []
   },
   "outputs": [],
   "source": [
    "x_train = x_train.astype(\"float32\") / 255.0\n",
    "x_test = x_test.astype(\"float32\") / 255.0"
   ]
  },
  {
   "cell_type": "markdown",
   "id": "96e4f357",
   "metadata": {
    "papermill": {
     "duration": 0.010259,
     "end_time": "2025-03-03T22:39:50.724031",
     "exception": false,
     "start_time": "2025-03-03T22:39:50.713772",
     "status": "completed"
    },
    "tags": []
   },
   "source": [
    "## 6. Building the CNN Model\n",
    "We construct a Sequential CNN using Convolutional and Pooling layers for feature extraction, followed by fully connected layers for classification into 100 classes.\n"
   ]
  },
  {
   "cell_type": "code",
   "execution_count": 7,
   "id": "a0593f18",
   "metadata": {
    "execution": {
     "iopub.execute_input": "2025-03-03T22:39:50.747976Z",
     "iopub.status.busy": "2025-03-03T22:39:50.747559Z",
     "iopub.status.idle": "2025-03-03T22:39:50.920330Z",
     "shell.execute_reply": "2025-03-03T22:39:50.918902Z"
    },
    "papermill": {
     "duration": 0.186981,
     "end_time": "2025-03-03T22:39:50.922208",
     "exception": false,
     "start_time": "2025-03-03T22:39:50.735227",
     "status": "completed"
    },
    "tags": []
   },
   "outputs": [
    {
     "name": "stderr",
     "output_type": "stream",
     "text": [
      "/usr/local/lib/python3.10/dist-packages/keras/src/layers/convolutional/base_conv.py:107: UserWarning: Do not pass an `input_shape`/`input_dim` argument to a layer. When using Sequential models, prefer using an `Input(shape)` object as the first layer in the model instead.\n",
      "  super().__init__(activity_regularizer=activity_regularizer, **kwargs)\n"
     ]
    },
    {
     "data": {
      "text/html": [
       "<pre style=\"white-space:pre;overflow-x:auto;line-height:normal;font-family:Menlo,'DejaVu Sans Mono',consolas,'Courier New',monospace\"><span style=\"font-weight: bold\">Model: \"sequential\"</span>\n",
       "</pre>\n"
      ],
      "text/plain": [
       "\u001b[1mModel: \"sequential\"\u001b[0m\n"
      ]
     },
     "metadata": {},
     "output_type": "display_data"
    },
    {
     "data": {
      "text/html": [
       "<pre style=\"white-space:pre;overflow-x:auto;line-height:normal;font-family:Menlo,'DejaVu Sans Mono',consolas,'Courier New',monospace\">┏━━━━━━━━━━━━━━━━━━━━━━━━━━━━━━━━━━━━━━┳━━━━━━━━━━━━━━━━━━━━━━━━━━━━━┳━━━━━━━━━━━━━━━━━┓\n",
       "┃<span style=\"font-weight: bold\"> Layer (type)                         </span>┃<span style=\"font-weight: bold\"> Output Shape                </span>┃<span style=\"font-weight: bold\">         Param # </span>┃\n",
       "┡━━━━━━━━━━━━━━━━━━━━━━━━━━━━━━━━━━━━━━╇━━━━━━━━━━━━━━━━━━━━━━━━━━━━━╇━━━━━━━━━━━━━━━━━┩\n",
       "│ conv2d (<span style=\"color: #0087ff; text-decoration-color: #0087ff\">Conv2D</span>)                      │ (<span style=\"color: #00d7ff; text-decoration-color: #00d7ff\">None</span>, <span style=\"color: #00af00; text-decoration-color: #00af00\">32</span>, <span style=\"color: #00af00; text-decoration-color: #00af00\">32</span>, <span style=\"color: #00af00; text-decoration-color: #00af00\">32</span>)          │             <span style=\"color: #00af00; text-decoration-color: #00af00\">896</span> │\n",
       "├──────────────────────────────────────┼─────────────────────────────┼─────────────────┤\n",
       "│ max_pooling2d (<span style=\"color: #0087ff; text-decoration-color: #0087ff\">MaxPooling2D</span>)         │ (<span style=\"color: #00d7ff; text-decoration-color: #00d7ff\">None</span>, <span style=\"color: #00af00; text-decoration-color: #00af00\">16</span>, <span style=\"color: #00af00; text-decoration-color: #00af00\">16</span>, <span style=\"color: #00af00; text-decoration-color: #00af00\">32</span>)          │               <span style=\"color: #00af00; text-decoration-color: #00af00\">0</span> │\n",
       "├──────────────────────────────────────┼─────────────────────────────┼─────────────────┤\n",
       "│ conv2d_1 (<span style=\"color: #0087ff; text-decoration-color: #0087ff\">Conv2D</span>)                    │ (<span style=\"color: #00d7ff; text-decoration-color: #00d7ff\">None</span>, <span style=\"color: #00af00; text-decoration-color: #00af00\">16</span>, <span style=\"color: #00af00; text-decoration-color: #00af00\">16</span>, <span style=\"color: #00af00; text-decoration-color: #00af00\">64</span>)          │          <span style=\"color: #00af00; text-decoration-color: #00af00\">18,496</span> │\n",
       "├──────────────────────────────────────┼─────────────────────────────┼─────────────────┤\n",
       "│ max_pooling2d_1 (<span style=\"color: #0087ff; text-decoration-color: #0087ff\">MaxPooling2D</span>)       │ (<span style=\"color: #00d7ff; text-decoration-color: #00d7ff\">None</span>, <span style=\"color: #00af00; text-decoration-color: #00af00\">8</span>, <span style=\"color: #00af00; text-decoration-color: #00af00\">8</span>, <span style=\"color: #00af00; text-decoration-color: #00af00\">64</span>)            │               <span style=\"color: #00af00; text-decoration-color: #00af00\">0</span> │\n",
       "├──────────────────────────────────────┼─────────────────────────────┼─────────────────┤\n",
       "│ conv2d_2 (<span style=\"color: #0087ff; text-decoration-color: #0087ff\">Conv2D</span>)                    │ (<span style=\"color: #00d7ff; text-decoration-color: #00d7ff\">None</span>, <span style=\"color: #00af00; text-decoration-color: #00af00\">8</span>, <span style=\"color: #00af00; text-decoration-color: #00af00\">8</span>, <span style=\"color: #00af00; text-decoration-color: #00af00\">128</span>)           │          <span style=\"color: #00af00; text-decoration-color: #00af00\">73,856</span> │\n",
       "├──────────────────────────────────────┼─────────────────────────────┼─────────────────┤\n",
       "│ max_pooling2d_2 (<span style=\"color: #0087ff; text-decoration-color: #0087ff\">MaxPooling2D</span>)       │ (<span style=\"color: #00d7ff; text-decoration-color: #00d7ff\">None</span>, <span style=\"color: #00af00; text-decoration-color: #00af00\">4</span>, <span style=\"color: #00af00; text-decoration-color: #00af00\">4</span>, <span style=\"color: #00af00; text-decoration-color: #00af00\">128</span>)           │               <span style=\"color: #00af00; text-decoration-color: #00af00\">0</span> │\n",
       "├──────────────────────────────────────┼─────────────────────────────┼─────────────────┤\n",
       "│ flatten (<span style=\"color: #0087ff; text-decoration-color: #0087ff\">Flatten</span>)                    │ (<span style=\"color: #00d7ff; text-decoration-color: #00d7ff\">None</span>, <span style=\"color: #00af00; text-decoration-color: #00af00\">2048</span>)                │               <span style=\"color: #00af00; text-decoration-color: #00af00\">0</span> │\n",
       "├──────────────────────────────────────┼─────────────────────────────┼─────────────────┤\n",
       "│ dense (<span style=\"color: #0087ff; text-decoration-color: #0087ff\">Dense</span>)                        │ (<span style=\"color: #00d7ff; text-decoration-color: #00d7ff\">None</span>, <span style=\"color: #00af00; text-decoration-color: #00af00\">256</span>)                 │         <span style=\"color: #00af00; text-decoration-color: #00af00\">524,544</span> │\n",
       "├──────────────────────────────────────┼─────────────────────────────┼─────────────────┤\n",
       "│ dropout (<span style=\"color: #0087ff; text-decoration-color: #0087ff\">Dropout</span>)                    │ (<span style=\"color: #00d7ff; text-decoration-color: #00d7ff\">None</span>, <span style=\"color: #00af00; text-decoration-color: #00af00\">256</span>)                 │               <span style=\"color: #00af00; text-decoration-color: #00af00\">0</span> │\n",
       "├──────────────────────────────────────┼─────────────────────────────┼─────────────────┤\n",
       "│ dense_1 (<span style=\"color: #0087ff; text-decoration-color: #0087ff\">Dense</span>)                      │ (<span style=\"color: #00d7ff; text-decoration-color: #00d7ff\">None</span>, <span style=\"color: #00af00; text-decoration-color: #00af00\">100</span>)                 │          <span style=\"color: #00af00; text-decoration-color: #00af00\">25,700</span> │\n",
       "└──────────────────────────────────────┴─────────────────────────────┴─────────────────┘\n",
       "</pre>\n"
      ],
      "text/plain": [
       "┏━━━━━━━━━━━━━━━━━━━━━━━━━━━━━━━━━━━━━━┳━━━━━━━━━━━━━━━━━━━━━━━━━━━━━┳━━━━━━━━━━━━━━━━━┓\n",
       "┃\u001b[1m \u001b[0m\u001b[1mLayer (type)                        \u001b[0m\u001b[1m \u001b[0m┃\u001b[1m \u001b[0m\u001b[1mOutput Shape               \u001b[0m\u001b[1m \u001b[0m┃\u001b[1m \u001b[0m\u001b[1m        Param #\u001b[0m\u001b[1m \u001b[0m┃\n",
       "┡━━━━━━━━━━━━━━━━━━━━━━━━━━━━━━━━━━━━━━╇━━━━━━━━━━━━━━━━━━━━━━━━━━━━━╇━━━━━━━━━━━━━━━━━┩\n",
       "│ conv2d (\u001b[38;5;33mConv2D\u001b[0m)                      │ (\u001b[38;5;45mNone\u001b[0m, \u001b[38;5;34m32\u001b[0m, \u001b[38;5;34m32\u001b[0m, \u001b[38;5;34m32\u001b[0m)          │             \u001b[38;5;34m896\u001b[0m │\n",
       "├──────────────────────────────────────┼─────────────────────────────┼─────────────────┤\n",
       "│ max_pooling2d (\u001b[38;5;33mMaxPooling2D\u001b[0m)         │ (\u001b[38;5;45mNone\u001b[0m, \u001b[38;5;34m16\u001b[0m, \u001b[38;5;34m16\u001b[0m, \u001b[38;5;34m32\u001b[0m)          │               \u001b[38;5;34m0\u001b[0m │\n",
       "├──────────────────────────────────────┼─────────────────────────────┼─────────────────┤\n",
       "│ conv2d_1 (\u001b[38;5;33mConv2D\u001b[0m)                    │ (\u001b[38;5;45mNone\u001b[0m, \u001b[38;5;34m16\u001b[0m, \u001b[38;5;34m16\u001b[0m, \u001b[38;5;34m64\u001b[0m)          │          \u001b[38;5;34m18,496\u001b[0m │\n",
       "├──────────────────────────────────────┼─────────────────────────────┼─────────────────┤\n",
       "│ max_pooling2d_1 (\u001b[38;5;33mMaxPooling2D\u001b[0m)       │ (\u001b[38;5;45mNone\u001b[0m, \u001b[38;5;34m8\u001b[0m, \u001b[38;5;34m8\u001b[0m, \u001b[38;5;34m64\u001b[0m)            │               \u001b[38;5;34m0\u001b[0m │\n",
       "├──────────────────────────────────────┼─────────────────────────────┼─────────────────┤\n",
       "│ conv2d_2 (\u001b[38;5;33mConv2D\u001b[0m)                    │ (\u001b[38;5;45mNone\u001b[0m, \u001b[38;5;34m8\u001b[0m, \u001b[38;5;34m8\u001b[0m, \u001b[38;5;34m128\u001b[0m)           │          \u001b[38;5;34m73,856\u001b[0m │\n",
       "├──────────────────────────────────────┼─────────────────────────────┼─────────────────┤\n",
       "│ max_pooling2d_2 (\u001b[38;5;33mMaxPooling2D\u001b[0m)       │ (\u001b[38;5;45mNone\u001b[0m, \u001b[38;5;34m4\u001b[0m, \u001b[38;5;34m4\u001b[0m, \u001b[38;5;34m128\u001b[0m)           │               \u001b[38;5;34m0\u001b[0m │\n",
       "├──────────────────────────────────────┼─────────────────────────────┼─────────────────┤\n",
       "│ flatten (\u001b[38;5;33mFlatten\u001b[0m)                    │ (\u001b[38;5;45mNone\u001b[0m, \u001b[38;5;34m2048\u001b[0m)                │               \u001b[38;5;34m0\u001b[0m │\n",
       "├──────────────────────────────────────┼─────────────────────────────┼─────────────────┤\n",
       "│ dense (\u001b[38;5;33mDense\u001b[0m)                        │ (\u001b[38;5;45mNone\u001b[0m, \u001b[38;5;34m256\u001b[0m)                 │         \u001b[38;5;34m524,544\u001b[0m │\n",
       "├──────────────────────────────────────┼─────────────────────────────┼─────────────────┤\n",
       "│ dropout (\u001b[38;5;33mDropout\u001b[0m)                    │ (\u001b[38;5;45mNone\u001b[0m, \u001b[38;5;34m256\u001b[0m)                 │               \u001b[38;5;34m0\u001b[0m │\n",
       "├──────────────────────────────────────┼─────────────────────────────┼─────────────────┤\n",
       "│ dense_1 (\u001b[38;5;33mDense\u001b[0m)                      │ (\u001b[38;5;45mNone\u001b[0m, \u001b[38;5;34m100\u001b[0m)                 │          \u001b[38;5;34m25,700\u001b[0m │\n",
       "└──────────────────────────────────────┴─────────────────────────────┴─────────────────┘\n"
      ]
     },
     "metadata": {},
     "output_type": "display_data"
    },
    {
     "data": {
      "text/html": [
       "<pre style=\"white-space:pre;overflow-x:auto;line-height:normal;font-family:Menlo,'DejaVu Sans Mono',consolas,'Courier New',monospace\"><span style=\"font-weight: bold\"> Total params: </span><span style=\"color: #00af00; text-decoration-color: #00af00\">643,492</span> (2.45 MB)\n",
       "</pre>\n"
      ],
      "text/plain": [
       "\u001b[1m Total params: \u001b[0m\u001b[38;5;34m643,492\u001b[0m (2.45 MB)\n"
      ]
     },
     "metadata": {},
     "output_type": "display_data"
    },
    {
     "data": {
      "text/html": [
       "<pre style=\"white-space:pre;overflow-x:auto;line-height:normal;font-family:Menlo,'DejaVu Sans Mono',consolas,'Courier New',monospace\"><span style=\"font-weight: bold\"> Trainable params: </span><span style=\"color: #00af00; text-decoration-color: #00af00\">643,492</span> (2.45 MB)\n",
       "</pre>\n"
      ],
      "text/plain": [
       "\u001b[1m Trainable params: \u001b[0m\u001b[38;5;34m643,492\u001b[0m (2.45 MB)\n"
      ]
     },
     "metadata": {},
     "output_type": "display_data"
    },
    {
     "data": {
      "text/html": [
       "<pre style=\"white-space:pre;overflow-x:auto;line-height:normal;font-family:Menlo,'DejaVu Sans Mono',consolas,'Courier New',monospace\"><span style=\"font-weight: bold\"> Non-trainable params: </span><span style=\"color: #00af00; text-decoration-color: #00af00\">0</span> (0.00 B)\n",
       "</pre>\n"
      ],
      "text/plain": [
       "\u001b[1m Non-trainable params: \u001b[0m\u001b[38;5;34m0\u001b[0m (0.00 B)\n"
      ]
     },
     "metadata": {},
     "output_type": "display_data"
    }
   ],
   "source": [
    "from tensorflow.keras.models import Sequential\n",
    "from tensorflow.keras.layers import Conv2D, MaxPooling2D, Flatten, Dense, Dropout\n",
    "\n",
    "# Define the CNN architecture\n",
    "model = Sequential([\n",
    "    Conv2D(32, (3, 3), activation='relu', padding='same', input_shape=(32, 32, 3)),\n",
    "    MaxPooling2D((2, 2)),\n",
    "\n",
    "    Conv2D(64, (3, 3), activation='relu', padding='same'),\n",
    "    MaxPooling2D((2, 2)),\n",
    "\n",
    "    Conv2D(128, (3, 3), activation='relu', padding='same'),\n",
    "    MaxPooling2D((2, 2)),\n",
    "\n",
    "    Flatten(),\n",
    "    Dense(256, activation='relu'),\n",
    "    Dropout(0.5),\n",
    "    Dense(100, activation='softmax')  # 100 classes\n",
    "])\n",
    "\n",
    "# Compile the model\n",
    "model.compile(optimizer='adam',\n",
    "              loss='sparse_categorical_crossentropy',\n",
    "              metrics=['accuracy'])\n",
    "\n",
    "# Summary of the model architecture\n",
    "model.summary()\n"
   ]
  },
  {
   "cell_type": "markdown",
   "id": "20edca67",
   "metadata": {
    "papermill": {
     "duration": 0.011533,
     "end_time": "2025-03-03T22:39:50.945537",
     "exception": false,
     "start_time": "2025-03-03T22:39:50.934004",
     "status": "completed"
    },
    "tags": []
   },
   "source": [
    "Key Points\n",
    "\n",
    "- Conv2D layers extract local features.\n",
    "- MaxPooling2D layers reduce spatial dimensions.\n",
    "- Dropout (0.5) reduces overfitting by randomly dropping units.\n",
    "- Dense(100) with softmax handles multi-class classification."
   ]
  },
  {
   "cell_type": "markdown",
   "id": "e3f22ef9",
   "metadata": {
    "papermill": {
     "duration": 0.012053,
     "end_time": "2025-03-03T22:39:50.969366",
     "exception": false,
     "start_time": "2025-03-03T22:39:50.957313",
     "status": "completed"
    },
    "tags": []
   },
   "source": [
    "## 7. Model Training\n",
    "We train the model using 15 epochs and a batch size of 64. You can adjust the hyperparameters based on validation results."
   ]
  },
  {
   "cell_type": "code",
   "execution_count": 8,
   "id": "437a30f9",
   "metadata": {
    "execution": {
     "iopub.execute_input": "2025-03-03T22:39:50.993726Z",
     "iopub.status.busy": "2025-03-03T22:39:50.993269Z",
     "iopub.status.idle": "2025-03-03T22:55:25.352697Z",
     "shell.execute_reply": "2025-03-03T22:55:25.351515Z"
    },
    "papermill": {
     "duration": 934.373969,
     "end_time": "2025-03-03T22:55:25.354725",
     "exception": false,
     "start_time": "2025-03-03T22:39:50.980756",
     "status": "completed"
    },
    "tags": []
   },
   "outputs": [
    {
     "name": "stdout",
     "output_type": "stream",
     "text": [
      "Epoch 1/15\n",
      "\u001b[1m782/782\u001b[0m \u001b[32m━━━━━━━━━━━━━━━━━━━━\u001b[0m\u001b[37m\u001b[0m \u001b[1m62s\u001b[0m 77ms/step - accuracy: 0.0386 - loss: 4.3439 - val_accuracy: 0.1643 - val_loss: 3.5704\n",
      "Epoch 2/15\n",
      "\u001b[1m782/782\u001b[0m \u001b[32m━━━━━━━━━━━━━━━━━━━━\u001b[0m\u001b[37m\u001b[0m \u001b[1m59s\u001b[0m 76ms/step - accuracy: 0.1519 - loss: 3.5723 - val_accuracy: 0.2553 - val_loss: 3.0909\n",
      "Epoch 3/15\n",
      "\u001b[1m782/782\u001b[0m \u001b[32m━━━━━━━━━━━━━━━━━━━━\u001b[0m\u001b[37m\u001b[0m \u001b[1m59s\u001b[0m 75ms/step - accuracy: 0.2165 - loss: 3.2146 - val_accuracy: 0.2935 - val_loss: 2.8771\n",
      "Epoch 4/15\n",
      "\u001b[1m782/782\u001b[0m \u001b[32m━━━━━━━━━━━━━━━━━━━━\u001b[0m\u001b[37m\u001b[0m \u001b[1m60s\u001b[0m 77ms/step - accuracy: 0.2583 - loss: 2.9731 - val_accuracy: 0.3321 - val_loss: 2.6730\n",
      "Epoch 5/15\n",
      "\u001b[1m782/782\u001b[0m \u001b[32m━━━━━━━━━━━━━━━━━━━━\u001b[0m\u001b[37m\u001b[0m \u001b[1m62s\u001b[0m 79ms/step - accuracy: 0.2928 - loss: 2.8118 - val_accuracy: 0.3562 - val_loss: 2.5701\n",
      "Epoch 6/15\n",
      "\u001b[1m782/782\u001b[0m \u001b[32m━━━━━━━━━━━━━━━━━━━━\u001b[0m\u001b[37m\u001b[0m \u001b[1m60s\u001b[0m 76ms/step - accuracy: 0.3185 - loss: 2.6810 - val_accuracy: 0.3666 - val_loss: 2.4957\n",
      "Epoch 7/15\n",
      "\u001b[1m782/782\u001b[0m \u001b[32m━━━━━━━━━━━━━━━━━━━━\u001b[0m\u001b[37m\u001b[0m \u001b[1m82s\u001b[0m 76ms/step - accuracy: 0.3394 - loss: 2.5496 - val_accuracy: 0.3790 - val_loss: 2.4374\n",
      "Epoch 8/15\n",
      "\u001b[1m782/782\u001b[0m \u001b[32m━━━━━━━━━━━━━━━━━━━━\u001b[0m\u001b[37m\u001b[0m \u001b[1m60s\u001b[0m 77ms/step - accuracy: 0.3588 - loss: 2.4608 - val_accuracy: 0.3873 - val_loss: 2.3848\n",
      "Epoch 9/15\n",
      "\u001b[1m782/782\u001b[0m \u001b[32m━━━━━━━━━━━━━━━━━━━━\u001b[0m\u001b[37m\u001b[0m \u001b[1m60s\u001b[0m 77ms/step - accuracy: 0.3754 - loss: 2.3873 - val_accuracy: 0.3922 - val_loss: 2.3415\n",
      "Epoch 10/15\n",
      "\u001b[1m782/782\u001b[0m \u001b[32m━━━━━━━━━━━━━━━━━━━━\u001b[0m\u001b[37m\u001b[0m \u001b[1m62s\u001b[0m 79ms/step - accuracy: 0.3985 - loss: 2.2717 - val_accuracy: 0.3925 - val_loss: 2.3697\n",
      "Epoch 11/15\n",
      "\u001b[1m782/782\u001b[0m \u001b[32m━━━━━━━━━━━━━━━━━━━━\u001b[0m\u001b[37m\u001b[0m \u001b[1m61s\u001b[0m 78ms/step - accuracy: 0.4092 - loss: 2.1957 - val_accuracy: 0.4113 - val_loss: 2.2832\n",
      "Epoch 12/15\n",
      "\u001b[1m782/782\u001b[0m \u001b[32m━━━━━━━━━━━━━━━━━━━━\u001b[0m\u001b[37m\u001b[0m \u001b[1m62s\u001b[0m 79ms/step - accuracy: 0.4239 - loss: 2.1311 - val_accuracy: 0.4162 - val_loss: 2.2553\n",
      "Epoch 13/15\n",
      "\u001b[1m782/782\u001b[0m \u001b[32m━━━━━━━━━━━━━━━━━━━━\u001b[0m\u001b[37m\u001b[0m \u001b[1m62s\u001b[0m 80ms/step - accuracy: 0.4397 - loss: 2.0627 - val_accuracy: 0.4128 - val_loss: 2.2826\n",
      "Epoch 14/15\n",
      "\u001b[1m782/782\u001b[0m \u001b[32m━━━━━━━━━━━━━━━━━━━━\u001b[0m\u001b[37m\u001b[0m \u001b[1m60s\u001b[0m 77ms/step - accuracy: 0.4525 - loss: 1.9976 - val_accuracy: 0.4003 - val_loss: 2.3539\n",
      "Epoch 15/15\n",
      "\u001b[1m782/782\u001b[0m \u001b[32m━━━━━━━━━━━━━━━━━━━━\u001b[0m\u001b[37m\u001b[0m \u001b[1m61s\u001b[0m 78ms/step - accuracy: 0.4632 - loss: 1.9357 - val_accuracy: 0.4242 - val_loss: 2.2574\n"
     ]
    }
   ],
   "source": [
    "history = model.fit(\n",
    "    x_train, y_train,\n",
    "    epochs=15,\n",
    "    batch_size=64,\n",
    "    validation_data=(x_test, y_test)\n",
    ")\n"
   ]
  },
  {
   "cell_type": "markdown",
   "id": "30a6c0de",
   "metadata": {
    "papermill": {
     "duration": 0.691586,
     "end_time": "2025-03-03T22:55:26.865802",
     "exception": false,
     "start_time": "2025-03-03T22:55:26.174216",
     "status": "completed"
    },
    "tags": []
   },
   "source": [
    "Key Hyperparameters\n",
    "\n",
    "- epochs=15: Number of training iterations.\n",
    "- batch_size=64: Mini-batch size for gradient updates."
   ]
  },
  {
   "cell_type": "markdown",
   "id": "f13fcace",
   "metadata": {
    "papermill": {
     "duration": 0.722533,
     "end_time": "2025-03-03T22:55:28.366931",
     "exception": false,
     "start_time": "2025-03-03T22:55:27.644398",
     "status": "completed"
    },
    "tags": []
   },
   "source": [
    "## 7.1. Monitoring Training\n",
    "During training, monitor:\n",
    "\n",
    "- Training Loss\n",
    "- Training Accuracy\n",
    "- Validation Loss\n",
    "- Validation Accuracy\n",
    "These metrics help diagnose underfitting or overfitting"
   ]
  },
  {
   "cell_type": "markdown",
   "id": "e22e4836",
   "metadata": {
    "papermill": {
     "duration": 0.679928,
     "end_time": "2025-03-03T22:55:29.845583",
     "exception": false,
     "start_time": "2025-03-03T22:55:29.165655",
     "status": "completed"
    },
    "tags": []
   },
   "source": [
    "## 8. Model Evaluation\n",
    "After training, evaluate the CNN on the test set."
   ]
  },
  {
   "cell_type": "code",
   "execution_count": 9,
   "id": "59bc8ef4",
   "metadata": {
    "execution": {
     "iopub.execute_input": "2025-03-03T22:55:31.496773Z",
     "iopub.status.busy": "2025-03-03T22:55:31.496225Z",
     "iopub.status.idle": "2025-03-03T22:55:35.567576Z",
     "shell.execute_reply": "2025-03-03T22:55:35.566449Z"
    },
    "papermill": {
     "duration": 4.827892,
     "end_time": "2025-03-03T22:55:35.569419",
     "exception": false,
     "start_time": "2025-03-03T22:55:30.741527",
     "status": "completed"
    },
    "tags": []
   },
   "outputs": [
    {
     "name": "stdout",
     "output_type": "stream",
     "text": [
      "Test Loss: 2.2574\n",
      "Test Accuracy: 0.4242\n"
     ]
    }
   ],
   "source": [
    "test_loss, test_accuracy = model.evaluate(x_test, y_test, verbose=0)\n",
    "print(f\"Test Loss: {test_loss:.4f}\")\n",
    "print(f\"Test Accuracy: {test_accuracy:.4f}\")\n"
   ]
  },
  {
   "cell_type": "markdown",
   "id": "75133367",
   "metadata": {
    "papermill": {
     "duration": 0.693038,
     "end_time": "2025-03-03T22:55:37.062670",
     "exception": false,
     "start_time": "2025-03-03T22:55:36.369632",
     "status": "completed"
    },
    "tags": []
   },
   "source": [
    "The test accuracy indicates how well the model generalizes to new data."
   ]
  },
  {
   "cell_type": "markdown",
   "id": "180e85d0",
   "metadata": {
    "papermill": {
     "duration": 0.777417,
     "end_time": "2025-03-03T22:55:38.535822",
     "exception": false,
     "start_time": "2025-03-03T22:55:37.758405",
     "status": "completed"
    },
    "tags": []
   },
   "source": [
    "# 9. Model Results and Next Steps\n",
    "\n",
    "Below is the outcome of our CNN training on **CIFAR-100**, using 15 epochs and a batch size of 64:\n",
    "\n",
    "1. **Model Parameters**  \n",
    "   - **Total Parameters:** 643,492  \n",
    "   - **Trainable Parameters:** 643,492  \n",
    "   - **Non-Trainable Parameters:** 0  \n",
    "\n",
    "2. **Performance**  \n",
    "   - **Test Loss:** 2.2429  \n",
    "   - **Test Accuracy:** 0.4301 (43.01%)\n",
    "\n",
    "---\n",
    "\n",
    "## Analysis of Results\n",
    "\n",
    "- **Accuracy (43%)**: This is a reasonable baseline for CIFAR-100, which is more complex than CIFAR-10 due to having 100 classes.\n",
    "- **Loss (2.2429)**: Indicates the model has room for improvement in distinguishing fine-grained classes."
   ]
  },
  {
   "cell_type": "markdown",
   "id": "20883b18",
   "metadata": {
    "papermill": {
     "duration": 0.773613,
     "end_time": "2025-03-03T22:55:40.008311",
     "exception": false,
     "start_time": "2025-03-03T22:55:39.234698",
     "status": "completed"
    },
    "tags": []
   },
   "source": []
  },
  {
   "cell_type": "markdown",
   "id": "3bcc4585",
   "metadata": {
    "papermill": {
     "duration": 0.841112,
     "end_time": "2025-03-03T22:55:41.545965",
     "exception": false,
     "start_time": "2025-03-03T22:55:40.704853",
     "status": "completed"
    },
    "tags": []
   },
   "source": [
    "## Potential Improvements\n",
    "\n",
    "1. **Increase Model Complexity**  \n",
    "   - Add more convolution and pooling layers or deeper blocks.  \n",
    "   - Incorporate Batch Normalization for more stable training.\n",
    "2. **Hyperparameter Tuning**  \n",
    "   - Experiment with longer training (e.g., 30+ epochs).  \n",
    "   - Use a learning rate scheduler to optimize convergence.\n",
    "3. **Data Augmentation**  \n",
    "   - Apply random flips, rotations, shifts, or brightness changes to increase effective training samples.\n",
    "4. **Additional Regularization**  \n",
    "   - Introduce weight decay (L2 regularization).  \n",
    "   - Add more Dropout if overfitting is observed with increased epochs.\n",
    "5. **Advanced Architectures**  \n",
    "   - Implement deeper architectures like ResNet or DenseNet, known for high performance on CIFAR-like tasks.\n",
    "\n",
    "\n",
    "\n",
    "## Recommendations for Next Steps\n",
    "\n",
    "1. **Extend Training**  \n",
    "   - Increase epochs to see if accuracy continues to improve.  \n",
    "   - Apply `EarlyStopping` or `ReduceLROnPlateau` callbacks to optimize the training process.\n",
    "2. **Log Experiments Systematically**  \n",
    "   - Keep track of model changes in a versioning system.  \n",
    "   - Compare metrics across runs to see which modifications yield the best results.\n",
    "3. **Aim for Competitive Accuracy**  \n",
    "   - A carefully tuned architecture can exceed 50% accuracy.  \n",
    "   - Data augmentation plus advanced model designs can significantly increase performance.\n",
    "\n",
    "\n",
    "\n",
    "## Conclusion\n",
    "\n",
    "A **43% test accuracy** is a solid starting point for a basic CNN on CIFAR-100. By applying the outlined improvements—especially deeper architectures, hyperparameter tuning, and data augmentation—the model can achieve higher accuracy. These steps underscore the importance of experimentation and iterative refinement in deep learning projects.\n"
   ]
  }
 ],
 "metadata": {
  "kaggle": {
   "accelerator": "none",
   "dataSources": [
    {
     "databundleVersionId": 1819836,
     "datasetId": 1059701,
     "sourceId": 1782442,
     "sourceType": "datasetVersion"
    }
   ],
   "dockerImageVersionId": 30918,
   "isGpuEnabled": false,
   "isInternetEnabled": true,
   "language": "python",
   "sourceType": "notebook"
  },
  "kernelspec": {
   "display_name": "Python 3",
   "language": "python",
   "name": "python3"
  },
  "language_info": {
   "codemirror_mode": {
    "name": "ipython",
    "version": 3
   },
   "file_extension": ".py",
   "mimetype": "text/x-python",
   "name": "python",
   "nbconvert_exporter": "python",
   "pygments_lexer": "ipython3",
   "version": "3.10.12"
  },
  "papermill": {
   "default_parameters": {},
   "duration": 991.107886,
   "end_time": "2025-03-03T22:55:44.759070",
   "environment_variables": {},
   "exception": null,
   "input_path": "__notebook__.ipynb",
   "output_path": "__notebook__.ipynb",
   "parameters": {},
   "start_time": "2025-03-03T22:39:13.651184",
   "version": "2.6.0"
  }
 },
 "nbformat": 4,
 "nbformat_minor": 5
}
