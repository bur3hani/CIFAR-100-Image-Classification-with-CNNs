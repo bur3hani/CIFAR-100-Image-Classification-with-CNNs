{
 "cells": [
  {
   "cell_type": "markdown",
   "id": "40a3f309",
   "metadata": {
    "papermill": {
     "duration": 0.005482,
     "end_time": "2025-03-03T23:51:20.306166",
     "exception": false,
     "start_time": "2025-03-03T23:51:20.300684",
     "status": "completed"
    },
    "tags": []
   },
   "source": [
    "# CIFAR-100 Image Classification with Convolutional Neural Networks\n",
    "- This project demonstrates a professional end-to-end workflow for classifying images in the CIFAR-100 dataset using a Convolutional Neural Network (CNN). The audience is anyone assessing a deep learning project, such as senior data scientists, instructors, or stakeholders. The content is designed to highlight clarity, best practices, and analytical rigor.\n",
    "## 1. Project Overview\n",
    "- Objective:\n",
    "Classify images in the CIFAR-100 dataset into one of 100 categories using a CNN. This project showcases the process of:\n",
    "\n",
    "- 1. Loading and understanding the dataset.\n",
    "- 2. Preprocessing images.\n",
    "- 3. Building a CNN architecture.\n",
    "- 4. Training and evaluating the model.\n",
    "- 5. Suggesting improvements and next steps.\n",
    "\n",
    "## Dataset: CIFAR-100\n",
    "- *Source:* Built-in TensorFlow/Keras dataset.\n",
    "- *Description:* 60,000 color images (32×32), split into 50,000 training images and 10,000 test images.\n",
    "- *Classes:* 100 categories (fine-grained labels).\n",
    "\n"
   ]
  },
  {
   "cell_type": "markdown",
   "id": "2cf20e86",
   "metadata": {
    "papermill": {
     "duration": 0.004577,
     "end_time": "2025-03-03T23:51:20.315667",
     "exception": false,
     "start_time": "2025-03-03T23:51:20.311090",
     "status": "completed"
    },
    "tags": []
   },
   "source": [
    "## 2. Environment Setup\n",
    "Below is a sample command to ensure the necessary libraries are available in your environment:"
   ]
  },
  {
   "cell_type": "code",
   "execution_count": 1,
   "id": "379dfe00",
   "metadata": {
    "execution": {
     "iopub.execute_input": "2025-03-03T23:51:20.326678Z",
     "iopub.status.busy": "2025-03-03T23:51:20.326155Z",
     "iopub.status.idle": "2025-03-03T23:51:26.160352Z",
     "shell.execute_reply": "2025-03-03T23:51:26.158840Z"
    },
    "papermill": {
     "duration": 5.84195,
     "end_time": "2025-03-03T23:51:26.162299",
     "exception": false,
     "start_time": "2025-03-03T23:51:20.320349",
     "status": "completed"
    },
    "tags": []
   },
   "outputs": [
    {
     "name": "stdout",
     "output_type": "stream",
     "text": [
      "Requirement already satisfied: tensorflow in /usr/local/lib/python3.10/dist-packages (2.17.1)\r\n",
      "Requirement already satisfied: matplotlib in /usr/local/lib/python3.10/dist-packages (3.7.5)\r\n",
      "Requirement already satisfied: numpy in /usr/local/lib/python3.10/dist-packages (1.26.4)\r\n",
      "Requirement already satisfied: absl-py>=1.0.0 in /usr/local/lib/python3.10/dist-packages (from tensorflow) (1.4.0)\r\n",
      "Requirement already satisfied: astunparse>=1.6.0 in /usr/local/lib/python3.10/dist-packages (from tensorflow) (1.6.3)\r\n",
      "Requirement already satisfied: flatbuffers>=24.3.25 in /usr/local/lib/python3.10/dist-packages (from tensorflow) (24.3.25)\r\n",
      "Requirement already satisfied: gast!=0.5.0,!=0.5.1,!=0.5.2,>=0.2.1 in /usr/local/lib/python3.10/dist-packages (from tensorflow) (0.6.0)\r\n",
      "Requirement already satisfied: google-pasta>=0.1.1 in /usr/local/lib/python3.10/dist-packages (from tensorflow) (0.2.0)\r\n",
      "Requirement already satisfied: h5py>=3.10.0 in /usr/local/lib/python3.10/dist-packages (from tensorflow) (3.12.1)\r\n",
      "Requirement already satisfied: libclang>=13.0.0 in /usr/local/lib/python3.10/dist-packages (from tensorflow) (18.1.1)\r\n",
      "Requirement already satisfied: ml-dtypes<0.5.0,>=0.3.1 in /usr/local/lib/python3.10/dist-packages (from tensorflow) (0.4.1)\r\n",
      "Requirement already satisfied: opt-einsum>=2.3.2 in /usr/local/lib/python3.10/dist-packages (from tensorflow) (3.4.0)\r\n",
      "Requirement already satisfied: packaging in /usr/local/lib/python3.10/dist-packages (from tensorflow) (24.2)\r\n",
      "Requirement already satisfied: protobuf!=4.21.0,!=4.21.1,!=4.21.2,!=4.21.3,!=4.21.4,!=4.21.5,<5.0.0dev,>=3.20.3 in /usr/local/lib/python3.10/dist-packages (from tensorflow) (3.20.3)\r\n",
      "Requirement already satisfied: requests<3,>=2.21.0 in /usr/local/lib/python3.10/dist-packages (from tensorflow) (2.32.3)\r\n",
      "Requirement already satisfied: setuptools in /usr/local/lib/python3.10/dist-packages (from tensorflow) (75.1.0)\r\n",
      "Requirement already satisfied: six>=1.12.0 in /usr/local/lib/python3.10/dist-packages (from tensorflow) (1.17.0)\r\n",
      "Requirement already satisfied: termcolor>=1.1.0 in /usr/local/lib/python3.10/dist-packages (from tensorflow) (2.5.0)\r\n",
      "Requirement already satisfied: typing-extensions>=3.6.6 in /usr/local/lib/python3.10/dist-packages (from tensorflow) (4.12.2)\r\n",
      "Requirement already satisfied: wrapt>=1.11.0 in /usr/local/lib/python3.10/dist-packages (from tensorflow) (1.17.0)\r\n",
      "Requirement already satisfied: grpcio<2.0,>=1.24.3 in /usr/local/lib/python3.10/dist-packages (from tensorflow) (1.68.1)\r\n",
      "Requirement already satisfied: tensorboard<2.18,>=2.17 in /usr/local/lib/python3.10/dist-packages (from tensorflow) (2.17.1)\r\n",
      "Requirement already satisfied: keras>=3.2.0 in /usr/local/lib/python3.10/dist-packages (from tensorflow) (3.5.0)\r\n",
      "Requirement already satisfied: tensorflow-io-gcs-filesystem>=0.23.1 in /usr/local/lib/python3.10/dist-packages (from tensorflow) (0.37.1)\r\n",
      "Requirement already satisfied: contourpy>=1.0.1 in /usr/local/lib/python3.10/dist-packages (from matplotlib) (1.3.1)\r\n",
      "Requirement already satisfied: cycler>=0.10 in /usr/local/lib/python3.10/dist-packages (from matplotlib) (0.12.1)\r\n",
      "Requirement already satisfied: fonttools>=4.22.0 in /usr/local/lib/python3.10/dist-packages (from matplotlib) (4.55.3)\r\n",
      "Requirement already satisfied: kiwisolver>=1.0.1 in /usr/local/lib/python3.10/dist-packages (from matplotlib) (1.4.7)\r\n",
      "Requirement already satisfied: pillow>=6.2.0 in /usr/local/lib/python3.10/dist-packages (from matplotlib) (11.0.0)\r\n",
      "Requirement already satisfied: pyparsing>=2.3.1 in /usr/local/lib/python3.10/dist-packages (from matplotlib) (3.2.0)\r\n",
      "Requirement already satisfied: python-dateutil>=2.7 in /usr/local/lib/python3.10/dist-packages (from matplotlib) (2.9.0.post0)\r\n",
      "Requirement already satisfied: mkl_fft in /usr/local/lib/python3.10/dist-packages (from numpy) (1.3.8)\r\n",
      "Requirement already satisfied: mkl_random in /usr/local/lib/python3.10/dist-packages (from numpy) (1.2.4)\r\n",
      "Requirement already satisfied: mkl_umath in /usr/local/lib/python3.10/dist-packages (from numpy) (0.1.1)\r\n",
      "Requirement already satisfied: mkl in /usr/local/lib/python3.10/dist-packages (from numpy) (2025.0.1)\r\n",
      "Requirement already satisfied: tbb4py in /usr/local/lib/python3.10/dist-packages (from numpy) (2022.0.0)\r\n",
      "Requirement already satisfied: mkl-service in /usr/local/lib/python3.10/dist-packages (from numpy) (2.4.1)\r\n",
      "Requirement already satisfied: wheel<1.0,>=0.23.0 in /usr/local/lib/python3.10/dist-packages (from astunparse>=1.6.0->tensorflow) (0.45.1)\r\n",
      "Requirement already satisfied: rich in /usr/local/lib/python3.10/dist-packages (from keras>=3.2.0->tensorflow) (13.9.4)\r\n",
      "Requirement already satisfied: namex in /usr/local/lib/python3.10/dist-packages (from keras>=3.2.0->tensorflow) (0.0.8)\r\n",
      "Requirement already satisfied: optree in /usr/local/lib/python3.10/dist-packages (from keras>=3.2.0->tensorflow) (0.13.1)\r\n",
      "Requirement already satisfied: charset-normalizer<4,>=2 in /usr/local/lib/python3.10/dist-packages (from requests<3,>=2.21.0->tensorflow) (3.4.1)\r\n",
      "Requirement already satisfied: idna<4,>=2.5 in /usr/local/lib/python3.10/dist-packages (from requests<3,>=2.21.0->tensorflow) (3.10)\r\n",
      "Requirement already satisfied: urllib3<3,>=1.21.1 in /usr/local/lib/python3.10/dist-packages (from requests<3,>=2.21.0->tensorflow) (2.3.0)\r\n",
      "Requirement already satisfied: certifi>=2017.4.17 in /usr/local/lib/python3.10/dist-packages (from requests<3,>=2.21.0->tensorflow) (2025.1.31)\r\n",
      "Requirement already satisfied: markdown>=2.6.8 in /usr/local/lib/python3.10/dist-packages (from tensorboard<2.18,>=2.17->tensorflow) (3.7)\r\n",
      "Requirement already satisfied: tensorboard-data-server<0.8.0,>=0.7.0 in /usr/local/lib/python3.10/dist-packages (from tensorboard<2.18,>=2.17->tensorflow) (0.7.2)\r\n",
      "Requirement already satisfied: werkzeug>=1.0.1 in /usr/local/lib/python3.10/dist-packages (from tensorboard<2.18,>=2.17->tensorflow) (3.1.3)\r\n",
      "Requirement already satisfied: intel-openmp>=2024 in /usr/local/lib/python3.10/dist-packages (from mkl->numpy) (2024.2.0)\r\n",
      "Requirement already satisfied: tbb==2022.* in /usr/local/lib/python3.10/dist-packages (from mkl->numpy) (2022.0.0)\r\n",
      "Requirement already satisfied: tcmlib==1.* in /usr/local/lib/python3.10/dist-packages (from tbb==2022.*->mkl->numpy) (1.2.0)\r\n",
      "Requirement already satisfied: intel-cmplr-lib-rt in /usr/local/lib/python3.10/dist-packages (from mkl_umath->numpy) (2024.2.0)\r\n",
      "Requirement already satisfied: intel-cmplr-lib-ur==2024.2.0 in /usr/local/lib/python3.10/dist-packages (from intel-openmp>=2024->mkl->numpy) (2024.2.0)\r\n",
      "Requirement already satisfied: MarkupSafe>=2.1.1 in /usr/local/lib/python3.10/dist-packages (from werkzeug>=1.0.1->tensorboard<2.18,>=2.17->tensorflow) (3.0.2)\r\n",
      "Requirement already satisfied: markdown-it-py>=2.2.0 in /usr/local/lib/python3.10/dist-packages (from rich->keras>=3.2.0->tensorflow) (3.0.0)\r\n",
      "Requirement already satisfied: pygments<3.0.0,>=2.13.0 in /usr/local/lib/python3.10/dist-packages (from rich->keras>=3.2.0->tensorflow) (2.19.1)\r\n",
      "Requirement already satisfied: mdurl~=0.1 in /usr/local/lib/python3.10/dist-packages (from markdown-it-py>=2.2.0->rich->keras>=3.2.0->tensorflow) (0.1.2)\r\n",
      "Note: you may need to restart the kernel to use updated packages.\n"
     ]
    }
   ],
   "source": [
    "pip install tensorflow matplotlib numpy"
   ]
  },
  {
   "cell_type": "markdown",
   "id": "3da38f3d",
   "metadata": {
    "papermill": {
     "duration": 0.005288,
     "end_time": "2025-03-03T23:51:26.173823",
     "exception": false,
     "start_time": "2025-03-03T23:51:26.168535",
     "status": "completed"
    },
    "tags": []
   },
   "source": [
    "- TensorFlow/Keras is used for building and training the CNN.\n",
    "- Matplotlib for data visualization.\n",
    "- NumPy for numerical operations."
   ]
  },
  {
   "cell_type": "markdown",
   "id": "f2bebadc",
   "metadata": {
    "papermill": {
     "duration": 0.005322,
     "end_time": "2025-03-03T23:51:26.184628",
     "exception": false,
     "start_time": "2025-03-03T23:51:26.179306",
     "status": "completed"
    },
    "tags": []
   },
   "source": [
    "## 3. Data Loading and Exploration\n",
    "Use the built-in TensorFlow/Keras function to load the CIFAR-100 dataset. This approach eliminates the need for a manual download."
   ]
  },
  {
   "cell_type": "code",
   "execution_count": 2,
   "id": "295840ae",
   "metadata": {
    "_cell_guid": "b1076dfc-b9ad-4769-8c92-a6c4dae69d19",
    "_uuid": "8f2839f25d086af736a60e9eeb907d3b93b6e0e5",
    "execution": {
     "iopub.execute_input": "2025-03-03T23:51:26.197457Z",
     "iopub.status.busy": "2025-03-03T23:51:26.197057Z",
     "iopub.status.idle": "2025-03-03T23:51:26.799992Z",
     "shell.execute_reply": "2025-03-03T23:51:26.798713Z"
    },
    "papermill": {
     "duration": 0.611701,
     "end_time": "2025-03-03T23:51:26.801865",
     "exception": false,
     "start_time": "2025-03-03T23:51:26.190164",
     "status": "completed"
    },
    "tags": []
   },
   "outputs": [
    {
     "name": "stdout",
     "output_type": "stream",
     "text": [
      "Path to dataset files: /kaggle/input/cifar100\n"
     ]
    }
   ],
   "source": [
    "import kagglehub\n",
    "path = kagglehub.dataset_download(\"fedesoriano/cifar100\")\n",
    "print(\"Path to dataset files:\", path)"
   ]
  },
  {
   "cell_type": "code",
   "execution_count": 3,
   "id": "08621e4a",
   "metadata": {
    "execution": {
     "iopub.execute_input": "2025-03-03T23:51:26.814576Z",
     "iopub.status.busy": "2025-03-03T23:51:26.814167Z",
     "iopub.status.idle": "2025-03-03T23:51:26.830417Z",
     "shell.execute_reply": "2025-03-03T23:51:26.829206Z"
    },
    "papermill": {
     "duration": 0.024612,
     "end_time": "2025-03-03T23:51:26.832402",
     "exception": false,
     "start_time": "2025-03-03T23:51:26.807790",
     "status": "completed"
    },
    "tags": []
   },
   "outputs": [
    {
     "name": "stdout",
     "output_type": "stream",
     "text": [
      "Available files in dataset directory: ['meta', 'file.txt', 'test', 'train']\n"
     ]
    }
   ],
   "source": [
    "import os\n",
    "\n",
    "dataset_path = \"/kaggle/input/cifar100/\"\n",
    "files = os.listdir(dataset_path)\n",
    "\n",
    "print(\"Available files in dataset directory:\", files)\n"
   ]
  },
  {
   "cell_type": "markdown",
   "id": "ae5068b3",
   "metadata": {
    "papermill": {
     "duration": 0.005564,
     "end_time": "2025-03-03T23:51:26.843758",
     "exception": false,
     "start_time": "2025-03-03T23:51:26.838194",
     "status": "completed"
    },
    "tags": []
   },
   "source": [
    "## 4. Data Loading and Exploration\n",
    "Use the built-in TensorFlow/Keras function to load the CIFAR-100 dataset. This approach eliminates the need for a manual download."
   ]
  },
  {
   "cell_type": "code",
   "execution_count": 4,
   "id": "a11adc46",
   "metadata": {
    "execution": {
     "iopub.execute_input": "2025-03-03T23:51:26.856938Z",
     "iopub.status.busy": "2025-03-03T23:51:26.856582Z",
     "iopub.status.idle": "2025-03-03T23:51:48.910836Z",
     "shell.execute_reply": "2025-03-03T23:51:48.909365Z"
    },
    "papermill": {
     "duration": 22.062811,
     "end_time": "2025-03-03T23:51:48.912699",
     "exception": false,
     "start_time": "2025-03-03T23:51:26.849888",
     "status": "completed"
    },
    "tags": []
   },
   "outputs": [
    {
     "name": "stdout",
     "output_type": "stream",
     "text": [
      "Downloading data from https://www.cs.toronto.edu/~kriz/cifar-100-python.tar.gz\n",
      "\u001b[1m169001437/169001437\u001b[0m \u001b[32m━━━━━━━━━━━━━━━━━━━━\u001b[0m\u001b[37m\u001b[0m \u001b[1m2s\u001b[0m 0us/step\n",
      "Training Images Shape: (50000, 32, 32, 3)\n",
      "Training Labels Shape: (50000, 1)\n",
      "Test Images Shape: (10000, 32, 32, 3)\n",
      "Test Labels Shape: (10000, 1)\n"
     ]
    }
   ],
   "source": [
    "import tensorflow as tf\n",
    "import numpy as np\n",
    "import matplotlib.pyplot as plt\n",
    "\n",
    "from tensorflow.keras.datasets import cifar100\n",
    "\n",
    "# Load the CIFAR-100 dataset\n",
    "(x_train, y_train), (x_test, y_test) = cifar100.load_data(label_mode='fine')\n",
    "\n",
    "# Print dataset dimensions\n",
    "print(\"Training Images Shape:\", x_train.shape)\n",
    "print(\"Training Labels Shape:\", y_train.shape)\n",
    "print(\"Test Images Shape:\", x_test.shape)\n",
    "print(\"Test Labels Shape:\", y_test.shape)\n"
   ]
  },
  {
   "cell_type": "markdown",
   "id": "93b87cfe",
   "metadata": {
    "papermill": {
     "duration": 0.008069,
     "end_time": "2025-03-03T23:51:48.929511",
     "exception": false,
     "start_time": "2025-03-03T23:51:48.921442",
     "status": "completed"
    },
    "tags": []
   },
   "source": [
    "## 4.1. Visualize Sample Images"
   ]
  },
  {
   "cell_type": "code",
   "execution_count": 5,
   "id": "7400f633",
   "metadata": {
    "execution": {
     "iopub.execute_input": "2025-03-03T23:51:48.948460Z",
     "iopub.status.busy": "2025-03-03T23:51:48.947766Z",
     "iopub.status.idle": "2025-03-03T23:51:49.205170Z",
     "shell.execute_reply": "2025-03-03T23:51:49.204044Z"
    },
    "papermill": {
     "duration": 0.268991,
     "end_time": "2025-03-03T23:51:49.207007",
     "exception": false,
     "start_time": "2025-03-03T23:51:48.938016",
     "status": "completed"
    },
    "tags": []
   },
   "outputs": [
    {
     "data": {
      "image/png": "[encoded data removed]",
      "text/plain": [
       "<Figure size 1200x300 with 5 Axes>"
      ]
     },
     "metadata": {},
     "output_type": "display_data"
    }
   ],
   "source": [
    "# Display 5 random samples from the training set\n",
    "fig, axes = plt.subplots(1, 5, figsize=(12, 3))\n",
    "for i in range(5):\n",
    "    idx = np.random.randint(0, x_train.shape[0])\n",
    "    axes[i].imshow(x_train[idx])\n",
    "    axes[i].axis(\"off\")\n",
    "plt.tight_layout()\n",
    "plt.show()\n"
   ]
  },
  {
   "cell_type": "markdown",
   "id": "b28e2e6e",
   "metadata": {
    "papermill": {
     "duration": 0.008555,
     "end_time": "2025-03-03T23:51:49.224437",
     "exception": false,
     "start_time": "2025-03-03T23:51:49.215882",
     "status": "completed"
    },
    "tags": []
   },
   "source": [
    "This step confirms that the dataset is loaded correctly and images are visually in line with the expected 32×32 resolution."
   ]
  },
  {
   "cell_type": "markdown",
   "id": "ebd30f55",
   "metadata": {
    "papermill": {
     "duration": 0.008894,
     "end_time": "2025-03-03T23:51:49.242347",
     "exception": false,
     "start_time": "2025-03-03T23:51:49.233453",
     "status": "completed"
    },
    "tags": []
   },
   "source": [
    "## 5. Data Preprocessing\n",
    "### 5.1. Normalize Images\n",
    "Pixel values range from 0 to 255. Normalizing helps the model converge more smoothly."
   ]
  },
  {
   "cell_type": "code",
   "execution_count": 6,
   "id": "3765c9f6",
   "metadata": {
    "execution": {
     "iopub.execute_input": "2025-03-03T23:51:49.262390Z",
     "iopub.status.busy": "2025-03-03T23:51:49.261996Z",
     "iopub.status.idle": "2025-03-03T23:51:49.777021Z",
     "shell.execute_reply": "2025-03-03T23:51:49.775930Z"
    },
    "papermill": {
     "duration": 0.527082,
     "end_time": "2025-03-03T23:51:49.778962",
     "exception": false,
     "start_time": "2025-03-03T23:51:49.251880",
     "status": "completed"
    },
    "tags": []
   },
   "outputs": [],
   "source": [
    "x_train = x_train.astype(\"float32\") / 255.0\n",
    "x_test = x_test.astype(\"float32\") / 255.0"
   ]
  },
  {
   "cell_type": "markdown",
   "id": "796cf30c",
   "metadata": {
    "papermill": {
     "duration": 0.00858,
     "end_time": "2025-03-03T23:51:49.796363",
     "exception": false,
     "start_time": "2025-03-03T23:51:49.787783",
     "status": "completed"
    },
    "tags": []
   },
   "source": [
    "## 6. Building the CNN Model\n",
    "We construct a Sequential CNN using Convolutional and Pooling layers for feature extraction, followed by fully connected layers for classification into 100 classes.\n"
   ]
  },
  {
   "cell_type": "code",
   "execution_count": 7,
   "id": "0782ab77",
   "metadata": {
    "execution": {
     "iopub.execute_input": "2025-03-03T23:51:49.815183Z",
     "iopub.status.busy": "2025-03-03T23:51:49.814719Z",
     "iopub.status.idle": "2025-03-03T23:51:49.976887Z",
     "shell.execute_reply": "2025-03-03T23:51:49.975765Z"
    },
    "papermill": {
     "duration": 0.173924,
     "end_time": "2025-03-03T23:51:49.978957",
     "exception": false,
     "start_time": "2025-03-03T23:51:49.805033",
     "status": "completed"
    },
    "tags": []
   },
   "outputs": [
    {
     "name": "stderr",
     "output_type": "stream",
     "text": [
      "/usr/local/lib/python3.10/dist-packages/keras/src/layers/convolutional/base_conv.py:107: UserWarning: Do not pass an `input_shape`/`input_dim` argument to a layer. When using Sequential models, prefer using an `Input(shape)` object as the first layer in the model instead.\n",
      "  super().__init__(activity_regularizer=activity_regularizer, **kwargs)\n"
     ]
    },
    {
     "data": {
      "text/html": [
       "<pre style=\"white-space:pre;overflow-x:auto;line-height:normal;font-family:Menlo,'DejaVu Sans Mono',consolas,'Courier New',monospace\"><span style=\"font-weight: bold\">Model: \"sequential\"</span>\n",
       "</pre>\n"
      ],
      "text/plain": [
       "\u001b[1mModel: \"sequential\"\u001b[0m\n"
      ]
     },
     "metadata": {},
     "output_type": "display_data"
    },
    {
     "data": {
      "text/html": [
       "<pre style=\"white-space:pre;overflow-x:auto;line-height:normal;font-family:Menlo,'DejaVu Sans Mono',consolas,'Courier New',monospace\">┏━━━━━━━━━━━━━━━━━━━━━━━━━━━━━━━━━━━━━━┳━━━━━━━━━━━━━━━━━━━━━━━━━━━━━┳━━━━━━━━━━━━━━━━━┓\n",
       "┃<span style=\"font-weight: bold\"> Layer (type)                         </span>┃<span style=\"font-weight: bold\"> Output Shape                </span>┃<span style=\"font-weight: bold\">         Param # </span>┃\n",
       "┡━━━━━━━━━━━━━━━━━━━━━━━━━━━━━━━━━━━━━━╇━━━━━━━━━━━━━━━━━━━━━━━━━━━━━╇━━━━━━━━━━━━━━━━━┩\n",
       "│ conv2d (<span style=\"color: #0087ff; text-decoration-color: #0087ff\">Conv2D</span>)                      │ (<span style=\"color: #00d7ff; text-decoration-color: #00d7ff\">None</span>, <span style=\"color: #00af00; text-decoration-color: #00af00\">32</span>, <span style=\"color: #00af00; text-decoration-color: #00af00\">32</span>, <span style=\"color: #00af00; text-decoration-color: #00af00\">32</span>)          │             <span style=\"color: #00af00; text-decoration-color: #00af00\">896</span> │\n",
       "├──────────────────────────────────────┼─────────────────────────────┼─────────────────┤\n",
       "│ max_pooling2d (<span style=\"color: #0087ff; text-decoration-color: #0087ff\">MaxPooling2D</span>)         │ (<span style=\"color: #00d7ff; text-decoration-color: #00d7ff\">None</span>, <span style=\"color: #00af00; text-decoration-color: #00af00\">16</span>, <span style=\"color: #00af00; text-decoration-color: #00af00\">16</span>, <span style=\"color: #00af00; text-decoration-color: #00af00\">32</span>)          │               <span style=\"color: #00af00; text-decoration-color: #00af00\">0</span> │\n",
       "├──────────────────────────────────────┼─────────────────────────────┼─────────────────┤\n",
       "│ conv2d_1 (<span style=\"color: #0087ff; text-decoration-color: #0087ff\">Conv2D</span>)                    │ (<span style=\"color: #00d7ff; text-decoration-color: #00d7ff\">None</span>, <span style=\"color: #00af00; text-decoration-color: #00af00\">16</span>, <span style=\"color: #00af00; text-decoration-color: #00af00\">16</span>, <span style=\"color: #00af00; text-decoration-color: #00af00\">64</span>)          │          <span style=\"color: #00af00; text-decoration-color: #00af00\">18,496</span> │\n",
       "├──────────────────────────────────────┼─────────────────────────────┼─────────────────┤\n",
       "│ max_pooling2d_1 (<span style=\"color: #0087ff; text-decoration-color: #0087ff\">MaxPooling2D</span>)       │ (<span style=\"color: #00d7ff; text-decoration-color: #00d7ff\">None</span>, <span style=\"color: #00af00; text-decoration-color: #00af00\">8</span>, <span style=\"color: #00af00; text-decoration-color: #00af00\">8</span>, <span style=\"color: #00af00; text-decoration-color: #00af00\">64</span>)            │               <span style=\"color: #00af00; text-decoration-color: #00af00\">0</span> │\n",
       "├──────────────────────────────────────┼─────────────────────────────┼─────────────────┤\n",
       "│ conv2d_2 (<span style=\"color: #0087ff; text-decoration-color: #0087ff\">Conv2D</span>)                    │ (<span style=\"color: #00d7ff; text-decoration-color: #00d7ff\">None</span>, <span style=\"color: #00af00; text-decoration-color: #00af00\">8</span>, <span style=\"color: #00af00; text-decoration-color: #00af00\">8</span>, <span style=\"color: #00af00; text-decoration-color: #00af00\">128</span>)           │          <span style=\"color: #00af00; text-decoration-color: #00af00\">73,856</span> │\n",
       "├──────────────────────────────────────┼─────────────────────────────┼─────────────────┤\n",
       "│ max_pooling2d_2 (<span style=\"color: #0087ff; text-decoration-color: #0087ff\">MaxPooling2D</span>)       │ (<span style=\"color: #00d7ff; text-decoration-color: #00d7ff\">None</span>, <span style=\"color: #00af00; text-decoration-color: #00af00\">4</span>, <span style=\"color: #00af00; text-decoration-color: #00af00\">4</span>, <span style=\"color: #00af00; text-decoration-color: #00af00\">128</span>)           │               <span style=\"color: #00af00; text-decoration-color: #00af00\">0</span> │\n",
       "├──────────────────────────────────────┼─────────────────────────────┼─────────────────┤\n",
       "│ flatten (<span style=\"color: #0087ff; text-decoration-color: #0087ff\">Flatten</span>)                    │ (<span style=\"color: #00d7ff; text-decoration-color: #00d7ff\">None</span>, <span style=\"color: #00af00; text-decoration-color: #00af00\">2048</span>)                │               <span style=\"color: #00af00; text-decoration-color: #00af00\">0</span> │\n",
       "├──────────────────────────────────────┼─────────────────────────────┼─────────────────┤\n",
       "│ dense (<span style=\"color: #0087ff; text-decoration-color: #0087ff\">Dense</span>)                        │ (<span style=\"color: #00d7ff; text-decoration-color: #00d7ff\">None</span>, <span style=\"color: #00af00; text-decoration-color: #00af00\">256</span>)                 │         <span style=\"color: #00af00; text-decoration-color: #00af00\">524,544</span> │\n",
       "├──────────────────────────────────────┼─────────────────────────────┼─────────────────┤\n",
       "│ dropout (<span style=\"color: #0087ff; text-decoration-color: #0087ff\">Dropout</span>)                    │ (<span style=\"color: #00d7ff; text-decoration-color: #00d7ff\">None</span>, <span style=\"color: #00af00; text-decoration-color: #00af00\">256</span>)                 │               <span style=\"color: #00af00; text-decoration-color: #00af00\">0</span> │\n",
       "├──────────────────────────────────────┼─────────────────────────────┼─────────────────┤\n",
       "│ dense_1 (<span style=\"color: #0087ff; text-decoration-color: #0087ff\">Dense</span>)                      │ (<span style=\"color: #00d7ff; text-decoration-color: #00d7ff\">None</span>, <span style=\"color: #00af00; text-decoration-color: #00af00\">100</span>)                 │          <span style=\"color: #00af00; text-decoration-color: #00af00\">25,700</span> │\n",
       "└──────────────────────────────────────┴─────────────────────────────┴─────────────────┘\n",
       "</pre>\n"
      ],
      "text/plain": [
       "┏━━━━━━━━━━━━━━━━━━━━━━━━━━━━━━━━━━━━━━┳━━━━━━━━━━━━━━━━━━━━━━━━━━━━━┳━━━━━━━━━━━━━━━━━┓\n",
       "┃\u001b[1m \u001b[0m\u001b[1mLayer (type)                        \u001b[0m\u001b[1m \u001b[0m┃\u001b[1m \u001b[0m\u001b[1mOutput Shape               \u001b[0m\u001b[1m \u001b[0m┃\u001b[1m \u001b[0m\u001b[1m        Param #\u001b[0m\u001b[1m \u001b[0m┃\n",
       "┡━━━━━━━━━━━━━━━━━━━━━━━━━━━━━━━━━━━━━━╇━━━━━━━━━━━━━━━━━━━━━━━━━━━━━╇━━━━━━━━━━━━━━━━━┩\n",
       "│ conv2d (\u001b[38;5;33mConv2D\u001b[0m)                      │ (\u001b[38;5;45mNone\u001b[0m, \u001b[38;5;34m32\u001b[0m, \u001b[38;5;34m32\u001b[0m, \u001b[38;5;34m32\u001b[0m)          │             \u001b[38;5;34m896\u001b[0m │\n",
       "├──────────────────────────────────────┼─────────────────────────────┼─────────────────┤\n",
       "│ max_pooling2d (\u001b[38;5;33mMaxPooling2D\u001b[0m)         │ (\u001b[38;5;45mNone\u001b[0m, \u001b[38;5;34m16\u001b[0m, \u001b[38;5;34m16\u001b[0m, \u001b[38;5;34m32\u001b[0m)          │               \u001b[38;5;34m0\u001b[0m │\n",
       "├──────────────────────────────────────┼─────────────────────────────┼─────────────────┤\n",
       "│ conv2d_1 (\u001b[38;5;33mConv2D\u001b[0m)                    │ (\u001b[38;5;45mNone\u001b[0m, \u001b[38;5;34m16\u001b[0m, \u001b[38;5;34m16\u001b[0m, \u001b[38;5;34m64\u001b[0m)          │          \u001b[38;5;34m18,496\u001b[0m │\n",
       "├──────────────────────────────────────┼─────────────────────────────┼─────────────────┤\n",
       "│ max_pooling2d_1 (\u001b[38;5;33mMaxPooling2D\u001b[0m)       │ (\u001b[38;5;45mNone\u001b[0m, \u001b[38;5;34m8\u001b[0m, \u001b[38;5;34m8\u001b[0m, \u001b[38;5;34m64\u001b[0m)            │               \u001b[38;5;34m0\u001b[0m │\n",
       "├──────────────────────────────────────┼─────────────────────────────┼─────────────────┤\n",
       "│ conv2d_2 (\u001b[38;5;33mConv2D\u001b[0m)                    │ (\u001b[38;5;45mNone\u001b[0m, \u001b[38;5;34m8\u001b[0m, \u001b[38;5;34m8\u001b[0m, \u001b[38;5;34m128\u001b[0m)           │          \u001b[38;5;34m73,856\u001b[0m │\n",
       "├──────────────────────────────────────┼─────────────────────────────┼─────────────────┤\n",
       "│ max_pooling2d_2 (\u001b[38;5;33mMaxPooling2D\u001b[0m)       │ (\u001b[38;5;45mNone\u001b[0m, \u001b[38;5;34m4\u001b[0m, \u001b[38;5;34m4\u001b[0m, \u001b[38;5;34m128\u001b[0m)           │               \u001b[38;5;34m0\u001b[0m │\n",
       "├──────────────────────────────────────┼─────────────────────────────┼─────────────────┤\n",
       "│ flatten (\u001b[38;5;33mFlatten\u001b[0m)                    │ (\u001b[38;5;45mNone\u001b[0m, \u001b[38;5;34m2048\u001b[0m)                │               \u001b[38;5;34m0\u001b[0m │\n",
       "├──────────────────────────────────────┼─────────────────────────────┼─────────────────┤\n",
       "│ dense (\u001b[38;5;33mDense\u001b[0m)                        │ (\u001b[38;5;45mNone\u001b[0m, \u001b[38;5;34m256\u001b[0m)                 │         \u001b[38;5;34m524,544\u001b[0m │\n",
       "├──────────────────────────────────────┼─────────────────────────────┼─────────────────┤\n",
       "│ dropout (\u001b[38;5;33mDropout\u001b[0m)                    │ (\u001b[38;5;45mNone\u001b[0m, \u001b[38;5;34m256\u001b[0m)                 │               \u001b[38;5;34m0\u001b[0m │\n",
       "├──────────────────────────────────────┼─────────────────────────────┼─────────────────┤\n",
       "│ dense_1 (\u001b[38;5;33mDense\u001b[0m)                      │ (\u001b[38;5;45mNone\u001b[0m, \u001b[38;5;34m100\u001b[0m)                 │          \u001b[38;5;34m25,700\u001b[0m │\n",
       "└──────────────────────────────────────┴─────────────────────────────┴─────────────────┘\n"
      ]
     },
     "metadata": {},
     "output_type": "display_data"
    },
    {
     "data": {
      "text/html": [
       "<pre style=\"white-space:pre;overflow-x:auto;line-height:normal;font-family:Menlo,'DejaVu Sans Mono',consolas,'Courier New',monospace\"><span style=\"font-weight: bold\"> Total params: </span><span style=\"color: #00af00; text-decoration-color: #00af00\">643,492</span> (2.45 MB)\n",
       "</pre>\n"
      ],
      "text/plain": [
       "\u001b[1m Total params: \u001b[0m\u001b[38;5;34m643,492\u001b[0m (2.45 MB)\n"
      ]
     },
     "metadata": {},
     "output_type": "display_data"
    },
    {
     "data": {
      "text/html": [
       "<pre style=\"white-space:pre;overflow-x:auto;line-height:normal;font-family:Menlo,'DejaVu Sans Mono',consolas,'Courier New',monospace\"><span style=\"font-weight: bold\"> Trainable params: </span><span style=\"color: #00af00; text-decoration-color: #00af00\">643,492</span> (2.45 MB)\n",
       "</pre>\n"
      ],
      "text/plain": [
       "\u001b[1m Trainable params: \u001b[0m\u001b[38;5;34m643,492\u001b[0m (2.45 MB)\n"
      ]
     },
     "metadata": {},
     "output_type": "display_data"
    },
    {
     "data": {
      "text/html": [
       "<pre style=\"white-space:pre;overflow-x:auto;line-height:normal;font-family:Menlo,'DejaVu Sans Mono',consolas,'Courier New',monospace\"><span style=\"font-weight: bold\"> Non-trainable params: </span><span style=\"color: #00af00; text-decoration-color: #00af00\">0</span> (0.00 B)\n",
       "</pre>\n"
      ],
      "text/plain": [
       "\u001b[1m Non-trainable params: \u001b[0m\u001b[38;5;34m0\u001b[0m (0.00 B)\n"
      ]
     },
     "metadata": {},
     "output_type": "display_data"
    }
   ],
   "source": [
    "from tensorflow.keras.models import Sequential\n",
    "from tensorflow.keras.layers import Conv2D, MaxPooling2D, Flatten, Dense, Dropout\n",
    "\n",
    "# Define the CNN architecture\n",
    "model = Sequential([\n",
    "    Conv2D(32, (3, 3), activation='relu', padding='same', input_shape=(32, 32, 3)),\n",
    "    MaxPooling2D((2, 2)),\n",
    "\n",
    "    Conv2D(64, (3, 3), activation='relu', padding='same'),\n",
    "    MaxPooling2D((2, 2)),\n",
    "\n",
    "    Conv2D(128, (3, 3), activation='relu', padding='same'),\n",
    "    MaxPooling2D((2, 2)),\n",
    "\n",
    "    Flatten(),\n",
    "    Dense(256, activation='relu'),\n",
    "    Dropout(0.5),\n",
    "    Dense(100, activation='softmax')  # 100 classes\n",
    "])\n",
    "\n",
    "# Compile the model\n",
    "model.compile(optimizer='adam',\n",
    "              loss='sparse_categorical_crossentropy',\n",
    "              metrics=['accuracy'])\n",
    "\n",
    "# Summary of the model architecture\n",
    "model.summary()\n"
   ]
  },
  {
   "cell_type": "markdown",
   "id": "d1309d4b",
   "metadata": {
    "papermill": {
     "duration": 0.008988,
     "end_time": "2025-03-03T23:51:49.997891",
     "exception": false,
     "start_time": "2025-03-03T23:51:49.988903",
     "status": "completed"
    },
    "tags": []
   },
   "source": [
    "Key Points\n",
    "\n",
    "- Conv2D layers extract local features.\n",
    "- MaxPooling2D layers reduce spatial dimensions.\n",
    "- Dropout (0.5) reduces overfitting by randomly dropping units.\n",
    "- Dense(100) with softmax handles multi-class classification."
   ]
  },
  {
   "cell_type": "markdown",
   "id": "bd1a9f7e",
   "metadata": {
    "papermill": {
     "duration": 0.00901,
     "end_time": "2025-03-03T23:51:50.016223",
     "exception": false,
     "start_time": "2025-03-03T23:51:50.007213",
     "status": "completed"
    },
    "tags": []
   },
   "source": [
    "## 7. Model Training\n",
    "We train the model using 15 epochs and a batch size of 64. You can adjust the hyperparameters based on validation results."
   ]
  },
  {
   "cell_type": "code",
   "execution_count": 8,
   "id": "246e8e50",
   "metadata": {
    "execution": {
     "iopub.execute_input": "2025-03-03T23:51:50.036067Z",
     "iopub.status.busy": "2025-03-03T23:51:50.035705Z",
     "iopub.status.idle": "2025-03-04T00:08:22.600149Z",
     "shell.execute_reply": "2025-03-04T00:08:22.599061Z"
    },
    "papermill": {
     "duration": 992.576832,
     "end_time": "2025-03-04T00:08:22.602211",
     "exception": false,
     "start_time": "2025-03-03T23:51:50.025379",
     "status": "completed"
    },
    "tags": []
   },
   "outputs": [
    {
     "name": "stdout",
     "output_type": "stream",
     "text": [
      "Epoch 1/15\n",
      "\u001b[1m782/782\u001b[0m \u001b[32m━━━━━━━━━━━━━━━━━━━━\u001b[0m\u001b[37m\u001b[0m \u001b[1m62s\u001b[0m 77ms/step - accuracy: 0.0399 - loss: 4.3339 - val_accuracy: 0.1714 - val_loss: 3.5580\n",
      "Epoch 2/15\n",
      "\u001b[1m782/782\u001b[0m \u001b[32m━━━━━━━━━━━━━━━━━━━━\u001b[0m\u001b[37m\u001b[0m \u001b[1m82s\u001b[0m 77ms/step - accuracy: 0.1537 - loss: 3.5673 - val_accuracy: 0.2562 - val_loss: 3.0688\n",
      "Epoch 3/15\n",
      "\u001b[1m782/782\u001b[0m \u001b[32m━━━━━━━━━━━━━━━━━━━━\u001b[0m\u001b[37m\u001b[0m \u001b[1m59s\u001b[0m 75ms/step - accuracy: 0.2183 - loss: 3.1928 - val_accuracy: 0.2957 - val_loss: 2.8404\n",
      "Epoch 4/15\n",
      "\u001b[1m782/782\u001b[0m \u001b[32m━━━━━━━━━━━━━━━━━━━━\u001b[0m\u001b[37m\u001b[0m \u001b[1m82s\u001b[0m 76ms/step - accuracy: 0.2625 - loss: 2.9713 - val_accuracy: 0.3315 - val_loss: 2.6507\n",
      "Epoch 5/15\n",
      "\u001b[1m782/782\u001b[0m \u001b[32m━━━━━━━━━━━━━━━━━━━━\u001b[0m\u001b[37m\u001b[0m \u001b[1m59s\u001b[0m 76ms/step - accuracy: 0.2967 - loss: 2.7881 - val_accuracy: 0.3490 - val_loss: 2.5845\n",
      "Epoch 6/15\n",
      "\u001b[1m782/782\u001b[0m \u001b[32m━━━━━━━━━━━━━━━━━━━━\u001b[0m\u001b[37m\u001b[0m \u001b[1m59s\u001b[0m 75ms/step - accuracy: 0.3177 - loss: 2.6518 - val_accuracy: 0.3808 - val_loss: 2.4538\n",
      "Epoch 7/15\n",
      "\u001b[1m782/782\u001b[0m \u001b[32m━━━━━━━━━━━━━━━━━━━━\u001b[0m\u001b[37m\u001b[0m \u001b[1m59s\u001b[0m 76ms/step - accuracy: 0.3458 - loss: 2.5278 - val_accuracy: 0.3920 - val_loss: 2.4104\n",
      "Epoch 8/15\n",
      "\u001b[1m782/782\u001b[0m \u001b[32m━━━━━━━━━━━━━━━━━━━━\u001b[0m\u001b[37m\u001b[0m \u001b[1m84s\u001b[0m 79ms/step - accuracy: 0.3708 - loss: 2.4053 - val_accuracy: 0.4036 - val_loss: 2.3111\n",
      "Epoch 9/15\n",
      "\u001b[1m782/782\u001b[0m \u001b[32m━━━━━━━━━━━━━━━━━━━━\u001b[0m\u001b[37m\u001b[0m \u001b[1m60s\u001b[0m 76ms/step - accuracy: 0.3860 - loss: 2.3259 - val_accuracy: 0.4057 - val_loss: 2.3129\n",
      "Epoch 10/15\n",
      "\u001b[1m782/782\u001b[0m \u001b[32m━━━━━━━━━━━━━━━━━━━━\u001b[0m\u001b[37m\u001b[0m \u001b[1m59s\u001b[0m 76ms/step - accuracy: 0.4056 - loss: 2.2407 - val_accuracy: 0.4175 - val_loss: 2.2450\n",
      "Epoch 11/15\n",
      "\u001b[1m782/782\u001b[0m \u001b[32m━━━━━━━━━━━━━━━━━━━━\u001b[0m\u001b[37m\u001b[0m \u001b[1m60s\u001b[0m 77ms/step - accuracy: 0.4185 - loss: 2.1572 - val_accuracy: 0.4218 - val_loss: 2.2463\n",
      "Epoch 12/15\n",
      "\u001b[1m782/782\u001b[0m \u001b[32m━━━━━━━━━━━━━━━━━━━━\u001b[0m\u001b[37m\u001b[0m \u001b[1m62s\u001b[0m 79ms/step - accuracy: 0.4345 - loss: 2.0899 - val_accuracy: 0.4234 - val_loss: 2.2292\n",
      "Epoch 13/15\n",
      "\u001b[1m782/782\u001b[0m \u001b[32m━━━━━━━━━━━━━━━━━━━━\u001b[0m\u001b[37m\u001b[0m \u001b[1m60s\u001b[0m 77ms/step - accuracy: 0.4506 - loss: 2.0301 - val_accuracy: 0.4235 - val_loss: 2.2108\n",
      "Epoch 14/15\n",
      "\u001b[1m782/782\u001b[0m \u001b[32m━━━━━━━━━━━━━━━━━━━━\u001b[0m\u001b[37m\u001b[0m \u001b[1m83s\u001b[0m 79ms/step - accuracy: 0.4567 - loss: 1.9705 - val_accuracy: 0.4246 - val_loss: 2.2348\n",
      "Epoch 15/15\n",
      "\u001b[1m782/782\u001b[0m \u001b[32m━━━━━━━━━━━━━━━━━━━━\u001b[0m\u001b[37m\u001b[0m \u001b[1m59s\u001b[0m 76ms/step - accuracy: 0.4702 - loss: 1.9314 - val_accuracy: 0.4348 - val_loss: 2.2106\n"
     ]
    }
   ],
   "source": [
    "history = model.fit(\n",
    "    x_train, y_train,\n",
    "    epochs=15,\n",
    "    batch_size=64,\n",
    "    validation_data=(x_test, y_test)\n",
    ")\n"
   ]
  },
  {
   "cell_type": "markdown",
   "id": "484c1c38",
   "metadata": {
    "papermill": {
     "duration": 0.69401,
     "end_time": "2025-03-04T00:08:24.067876",
     "exception": false,
     "start_time": "2025-03-04T00:08:23.373866",
     "status": "completed"
    },
    "tags": []
   },
   "source": [
    "Key Hyperparameters\n",
    "\n",
    "- epochs=15: Number of training iterations.\n",
    "- batch_size=64: Mini-batch size for gradient updates."
   ]
  },
  {
   "cell_type": "markdown",
   "id": "90071c84",
   "metadata": {
    "papermill": {
     "duration": 0.772985,
     "end_time": "2025-03-04T00:08:25.596010",
     "exception": false,
     "start_time": "2025-03-04T00:08:24.823025",
     "status": "completed"
    },
    "tags": []
   },
   "source": [
    "## 7.1. Monitoring Training\n",
    "During training, monitor:\n",
    "\n",
    "- Training Loss\n",
    "- Training Accuracy\n",
    "- Validation Loss\n",
    "- Validation Accuracy\n",
    "These metrics help diagnose underfitting or overfitting"
   ]
  },
  {
   "cell_type": "markdown",
   "id": "903e0a33",
   "metadata": {
    "papermill": {
     "duration": 0.695521,
     "end_time": "2025-03-04T00:08:27.092516",
     "exception": false,
     "start_time": "2025-03-04T00:08:26.396995",
     "status": "completed"
    },
    "tags": []
   },
   "source": [
    "## 8. Model Evaluation\n",
    "After training, evaluate the CNN on the test set."
   ]
  },
  {
   "cell_type": "code",
   "execution_count": 9,
   "id": "fea68e14",
   "metadata": {
    "execution": {
     "iopub.execute_input": "2025-03-04T00:08:28.619243Z",
     "iopub.status.busy": "2025-03-04T00:08:28.618850Z",
     "iopub.status.idle": "2025-03-04T00:08:34.040522Z",
     "shell.execute_reply": "2025-03-04T00:08:34.039403Z"
    },
    "papermill": {
     "duration": 6.191815,
     "end_time": "2025-03-04T00:08:34.042463",
     "exception": false,
     "start_time": "2025-03-04T00:08:27.850648",
     "status": "completed"
    },
    "tags": []
   },
   "outputs": [
    {
     "name": "stdout",
     "output_type": "stream",
     "text": [
      "Test Loss: 2.2106\n",
      "Test Accuracy: 0.4348\n"
     ]
    }
   ],
   "source": [
    "test_loss, test_accuracy = model.evaluate(x_test, y_test, verbose=0)\n",
    "print(f\"Test Loss: {test_loss:.4f}\")\n",
    "print(f\"Test Accuracy: {test_accuracy:.4f}\")\n"
   ]
  },
  {
   "cell_type": "markdown",
   "id": "513a2544",
   "metadata": {
    "papermill": {
     "duration": 0.722243,
     "end_time": "2025-03-04T00:08:35.451583",
     "exception": false,
     "start_time": "2025-03-04T00:08:34.729340",
     "status": "completed"
    },
    "tags": []
   },
   "source": [
    "The test accuracy indicates how well the model generalizes to new data."
   ]
  },
  {
   "cell_type": "markdown",
   "id": "92776c62",
   "metadata": {
    "papermill": {
     "duration": 0.677656,
     "end_time": "2025-03-04T00:08:36.878672",
     "exception": false,
     "start_time": "2025-03-04T00:08:36.201016",
     "status": "completed"
    },
    "tags": []
   },
   "source": [
    "# 9. Model Results and Next Steps\n",
    "\n",
    "Below is the outcome of our CNN training on **CIFAR-100**, using 15 epochs and a batch size of 64:\n",
    "\n",
    "1. **Model Parameters**  \n",
    "   - **Total Parameters:** 643,492  \n",
    "   - **Trainable Parameters:** 643,492  \n",
    "   - **Non-Trainable Parameters:** 0  \n",
    "\n",
    "2. **Performance**  \n",
    "   - **Test Loss:** 2.2429  \n",
    "   - **Test Accuracy:** 0.4301 (43.01%)\n",
    "\n",
    "---\n",
    "\n",
    "## Analysis of Results\n",
    "\n",
    "- **Accuracy (43%)**: This is a reasonable baseline for CIFAR-100, which is more complex than CIFAR-10 due to having 100 classes.\n",
    "- **Loss (2.2429)**: Indicates the model has room for improvement in distinguishing fine-grained classes."
   ]
  },
  {
   "cell_type": "markdown",
   "id": "f4c8b756",
   "metadata": {
    "papermill": {
     "duration": 0.670444,
     "end_time": "2025-03-04T00:08:38.303577",
     "exception": false,
     "start_time": "2025-03-04T00:08:37.633133",
     "status": "completed"
    },
    "tags": []
   },
   "source": []
  },
  {
   "cell_type": "markdown",
   "id": "b0f9027f",
   "metadata": {
    "papermill": {
     "duration": 0.75451,
     "end_time": "2025-03-04T00:08:39.804935",
     "exception": false,
     "start_time": "2025-03-04T00:08:39.050425",
     "status": "completed"
    },
    "tags": []
   },
   "source": [
    "## Potential Improvements\n",
    "\n",
    "1. **Increase Model Complexity**  \n",
    "   - Add more convolution and pooling layers or deeper blocks.  \n",
    "   - Incorporate Batch Normalization for more stable training.\n",
    "2. **Hyperparameter Tuning**  \n",
    "   - Experiment with longer training (e.g., 30+ epochs).  \n",
    "   - Use a learning rate scheduler to optimize convergence.\n",
    "3. **Data Augmentation**  \n",
    "   - Apply random flips, rotations, shifts, or brightness changes to increase effective training samples.\n",
    "4. **Additional Regularization**  \n",
    "   - Introduce weight decay (L2 regularization).  \n",
    "   - Add more Dropout if overfitting is observed with increased epochs.\n",
    "5. **Advanced Architectures**  \n",
    "   - Implement deeper architectures like ResNet or DenseNet, known for high performance on CIFAR-like tasks.\n",
    "\n",
    "\n",
    "\n",
    "## Recommendations for Next Steps\n",
    "\n",
    "1. **Extend Training**  \n",
    "   - Increase epochs to see if accuracy continues to improve.  \n",
    "   - Apply `EarlyStopping` or `ReduceLROnPlateau` callbacks to optimize the training process.\n",
    "2. **Log Experiments Systematically**  \n",
    "   - Keep track of model changes in a versioning system.  \n",
    "   - Compare metrics across runs to see which modifications yield the best results.\n",
    "3. **Aim for Competitive Accuracy**  \n",
    "   - A carefully tuned architecture can exceed 50% accuracy.  \n",
    "   - Data augmentation plus advanced model designs can significantly increase performance.\n",
    "\n",
    "\n",
    "\n",
    "## Conclusion\n",
    "\n",
    "A **43% test accuracy** is a solid starting point for a basic CNN on CIFAR-100. By applying the outlined improvements—especially deeper architectures, hyperparameter tuning, and data augmentation—the model can achieve higher accuracy. These steps underscore the importance of experimentation and iterative refinement in deep learning projects.\n"
   ]
  }
 ],
 "metadata": {
  "kaggle": {
   "accelerator": "none",
   "dataSources": [
    {
     "databundleVersionId": 1819836,
     "datasetId": 1059701,
     "sourceId": 1782442,
     "sourceType": "datasetVersion"
    }
   ],
   "dockerImageVersionId": 30918,
   "isGpuEnabled": false,
   "isInternetEnabled": true,
   "language": "python",
   "sourceType": "notebook"
  },
  "kernelspec": {
   "display_name": "Python 3",
   "language": "python",
   "name": "python3"
  },
  "language_info": {
   "codemirror_mode": {
    "name": "ipython",
    "version": 3
   },
   "file_extension": ".py",
   "mimetype": "text/x-python",
   "name": "python",
   "nbconvert_exporter": "python",
   "pygments_lexer": "ipython3",
   "version": "3.10.12"
  },
  "papermill": {
   "default_parameters": {},
   "duration": 1044.865932,
   "end_time": "2025-03-04T00:08:42.327016",
   "environment_variables": {},
   "exception": null,
   "input_path": "__notebook__.ipynb",
   "output_path": "__notebook__.ipynb",
   "parameters": {},
   "start_time": "2025-03-03T23:51:17.461084",
   "version": "2.6.0"
  }
 },
 "nbformat": 4,
 "nbformat_minor": 5
}
